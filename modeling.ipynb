{
 "cells": [
  {
   "cell_type": "markdown",
   "metadata": {},
   "source": [
    "# Import modules/ libraries"
   ]
  },
  {
   "cell_type": "code",
   "execution_count": 89,
   "metadata": {},
   "outputs": [],
   "source": [
    "import os\n",
    "import sys\n",
    "import pandas as pd\n",
    "import numpy as np\n",
    "from pandas import DataFrame, read_csv\n",
    "import matplotlib.pyplot as plt\n",
    "from IPython.display import Image, Markdown\n",
    "import seaborn as sns\n",
    "plt.style.use('seaborn')\n",
    "from __future__ import print_function, division\n",
    "import datetime\n",
    "from datetime import datetime as dt\n",
    "from scipy.ndimage.filters import generic_filter\n",
    "import pickle\n",
    "import patsy\n",
    "import statsmodels.api as sm\n",
    "import statsmodels.formula.api as smf\n",
    "from sklearn import datasets, linear_model, metrics\n",
    "from sklearn.cross_validation import cross_val_score, cross_val_predict\n",
    "from sklearn.preprocessing import StandardScaler\n",
    "from sklearn.model_selection import train_test_split, GridSearchCV\n",
    "from sklearn.linear_model import Ridge, Lasso, RidgeCV, LinearRegression\n",
    "from sklearn.preprocessing import PolynomialFeatures\n",
    "from sklearn.naive_bayes import GaussianNB\n",
    "from sklearn.pipeline import make_pipeline\n",
    "from sklearn.metrics import mean_squared_error, mean_absolute_error\n",
    "from sklearn import svm, datasets\n",
    "plt.style.use('seaborn')\n",
    "\n",
    "%matplotlib inline"
   ]
  },
  {
   "cell_type": "markdown",
   "metadata": {},
   "source": [
    "# Import all data"
   ]
  },
  {
   "cell_type": "code",
   "execution_count": 90,
   "metadata": {},
   "outputs": [],
   "source": [
    "with open('all_product_listings_for_modeling_list_price.pkl', 'rb') as picklefile: \n",
    "    all_product_listings_for_modeling_list_price = pickle.load(picklefile)"
   ]
  },
  {
   "cell_type": "code",
   "execution_count": 91,
   "metadata": {},
   "outputs": [],
   "source": [
    "with open('all_product_listings_for_modeling_log_price.pkl', 'rb') as picklefile: \n",
    "    all_product_listings_for_modeling_log_price = pickle.load(picklefile)"
   ]
  },
  {
   "cell_type": "code",
   "execution_count": 92,
   "metadata": {},
   "outputs": [
    {
     "data": {
      "text/plain": [
       "Index(['num_cust_reviews', 'list_price', 'avg_cust_review',\n",
       "       'num_answered_questions', 'product_discounts', 'time_on_market',\n",
       "       'other_sellers_boolean', 'expedited_shipping_boolean',\n",
       "       'num_bullets_description', 'product_specs_image_boolean',\n",
       "       'num_specs_bullets', 'seller_rank_boolean', 'clothing_seller_rank',\n",
       "       'seller_rank_binary_list', 'num_cust_review_squared',\n",
       "       'avg_cust_review_squared', 'num_answered_questions_squared'],\n",
       "      dtype='object')"
      ]
     },
     "execution_count": 92,
     "metadata": {},
     "output_type": "execute_result"
    }
   ],
   "source": [
    "all_product_listings_for_modeling_list_price.columns"
   ]
  },
  {
   "cell_type": "code",
   "execution_count": 93,
   "metadata": {},
   "outputs": [
    {
     "data": {
      "text/plain": [
       "Index(['num_cust_reviews', 'avg_cust_review', 'num_answered_questions',\n",
       "       'product_discounts', 'time_on_market', 'other_sellers_boolean',\n",
       "       'expedited_shipping_boolean', 'num_bullets_description',\n",
       "       'product_specs_image_boolean', 'num_specs_bullets',\n",
       "       'seller_rank_boolean', 'clothing_seller_rank',\n",
       "       'seller_rank_binary_list', 'log_price', 'num_cust_review_squared',\n",
       "       'avg_cust_review_squared', 'num_answered_questions_squared'],\n",
       "      dtype='object')"
      ]
     },
     "execution_count": 93,
     "metadata": {},
     "output_type": "execute_result"
    }
   ],
   "source": [
    "all_product_listings_for_modeling_log_price.columns"
   ]
  },
  {
   "cell_type": "markdown",
   "metadata": {
    "heading_collapsed": true
   },
   "source": [
    "# Prepare the test/train sets"
   ]
  },
  {
   "cell_type": "markdown",
   "metadata": {
    "hidden": true
   },
   "source": [
    "## Start with making the list_price itself a target"
   ]
  },
  {
   "cell_type": "code",
   "execution_count": 94,
   "metadata": {
    "hidden": true
   },
   "outputs": [],
   "source": [
    "# Save all the variables that are not list_price into vector X \n",
    "# Save list_price (our target) into y \n",
    "\n",
    "X = all_product_listings_for_modeling_list_price[[x for x in all_product_listings_for_modeling_list_price.columns if x != 'list_price']]\n",
    "y = all_product_listings_for_modeling_list_price['list_price']\n",
    "X_train, X_val, y_train, y_val = train_test_split(X, y, test_size=0.1, random_state=30)"
   ]
  },
  {
   "cell_type": "code",
   "execution_count": 95,
   "metadata": {
    "hidden": true
   },
   "outputs": [],
   "source": [
    "# Scale the train and validation data\n",
    "ssX = StandardScaler()\n",
    " \n",
    "# Fit_transform figures fit(out mean and std). \n",
    "# Then transforms (using the value from the fit x-mu for each datapoint)\n",
    "\n",
    "# Fit and transform the training data\n",
    "X_train = ssX.fit_transform(X_train)\n",
    "\n",
    "# Validate and transform the validation data\n",
    "X_val = ssX.transform(X_val)"
   ]
  },
  {
   "cell_type": "code",
   "execution_count": 96,
   "metadata": {
    "hidden": true
   },
   "outputs": [
    {
     "data": {
      "text/plain": [
       "array([[-0.12677402,  0.4018086 , -0.32813459, ..., -0.12174417,\n",
       "         0.20680303, -0.14050459],\n",
       "       [-0.28822979,  0.66740446, -0.32813459, ..., -0.12523577,\n",
       "         0.68789436, -0.14050459],\n",
       "       [-0.30168444, -1.66983912, -0.32813459, ..., -0.12525655,\n",
       "        -1.55642568, -0.14050459],\n",
       "       ...,\n",
       "       [-0.29495712,  0.24245108, -0.32813459, ..., -0.12525136,\n",
       "        -0.05402962, -0.14050459],\n",
       "       [-0.27813881,  0.82676197, -0.32813459, ..., -0.12519291,\n",
       "         1.00437131, -0.14050459],\n",
       "       [-0.25122951,  0.45492777, -0.32813459, ..., -0.12496429,\n",
       "         0.29838427, -0.14050459]])"
      ]
     },
     "execution_count": 96,
     "metadata": {},
     "output_type": "execute_result"
    }
   ],
   "source": [
    "X_train"
   ]
  },
  {
   "cell_type": "markdown",
   "metadata": {
    "hidden": true
   },
   "source": [
    "## Make the log_price a target as well"
   ]
  },
  {
   "cell_type": "code",
   "execution_count": 97,
   "metadata": {
    "hidden": true
   },
   "outputs": [],
   "source": [
    "X_log = all_product_listings_for_modeling_log_price[[x for x in all_product_listings_for_modeling_log_price.columns if x != 'log_price']]\n",
    "y_log = all_product_listings_for_modeling_log_price['log_price']\n",
    "X_train_log, X_val_log, y_train_log, y_val_log = train_test_split(X_log, y_log, test_size=0.1, random_state=30)"
   ]
  },
  {
   "cell_type": "code",
   "execution_count": 98,
   "metadata": {
    "hidden": true
   },
   "outputs": [],
   "source": [
    "# Scale the train and validation data\n",
    "ssX = StandardScaler()\n",
    " \n",
    "# Fit_transform figures fit(out mean and std). \n",
    "# Then transforms (using the value from the fit x-mu for each datapoint)\n",
    "\n",
    "# Fit and transform the training data\n",
    "X_train_log = ssX.fit_transform(X_train_log)\n",
    "\n",
    "# Validate and transform the validation data\n",
    "X_val_log = ssX.transform(X_val_log)"
   ]
  },
  {
   "cell_type": "markdown",
   "metadata": {
    "heading_collapsed": true
   },
   "source": [
    "# Obtain a linear model fit on the test/train sets for regular price"
   ]
  },
  {
   "cell_type": "code",
   "execution_count": 99,
   "metadata": {
    "hidden": true
   },
   "outputs": [
    {
     "data": {
      "text/plain": [
       "array([12.27112738, 29.35399443, 14.22584177, 30.86943656, 11.56571446,\n",
       "       21.84827978, 16.87078604, 14.11600149, 27.69860679, 27.65209935,\n",
       "       41.671646  , 30.77120467, 72.42614327,  8.43755885, 26.88434039,\n",
       "       29.05207002])"
      ]
     },
     "execution_count": 99,
     "metadata": {},
     "output_type": "execute_result"
    }
   ],
   "source": [
    "# Obtain the linear regression model \n",
    "lm = linear_model.LinearRegression()\n",
    "\n",
    "# Fit the training data to the linear model\n",
    "linear_model_fit = lm.fit(X_train, y_train)\n",
    "\n",
    "# Apply the linear model to the validation data to obtain predictions \n",
    "linear_predictions_validation = lm.predict(X_val)\n",
    "linear_predictions_validation"
   ]
  },
  {
   "cell_type": "code",
   "execution_count": 100,
   "metadata": {
    "hidden": true
   },
   "outputs": [],
   "source": [
    "linear_predictions_train = lm.predict(X_train)"
   ]
  },
  {
   "cell_type": "code",
   "execution_count": 101,
   "metadata": {
    "hidden": true
   },
   "outputs": [
    {
     "data": {
      "text/plain": [
       "0.37285638142468003"
      ]
     },
     "execution_count": 101,
     "metadata": {},
     "output_type": "execute_result"
    }
   ],
   "source": [
    "# My R^2 score seems to be a pretty low score. I'm only account for 37% of the variance.\n",
    "lm.score(X_train, y_train)"
   ]
  },
  {
   "cell_type": "markdown",
   "metadata": {
    "heading_collapsed": true
   },
   "source": [
    "# Obtain the linear model fit on the test/train sets for log price"
   ]
  },
  {
   "cell_type": "code",
   "execution_count": 102,
   "metadata": {
    "hidden": true
   },
   "outputs": [
    {
     "data": {
      "text/plain": [
       "array([2.52172471, 3.17551856, 3.05682377, 3.17492084, 2.75115998,\n",
       "       2.94910032, 3.0056825 , 2.87072618, 2.95506165, 3.15138484,\n",
       "       3.42456371, 3.13803373, 3.89957072, 2.87822134, 3.04032702,\n",
       "       3.27652719])"
      ]
     },
     "execution_count": 102,
     "metadata": {},
     "output_type": "execute_result"
    }
   ],
   "source": [
    "# Fit the training data to the linear model\n",
    "linear_model_fit_log = lm.fit(X_train_log, y_train_log)\n",
    "\n",
    "# Apply the linear model to the validation data to obtain predictions \n",
    "linear_predictions_validation_log = lm.predict(X_val_log)\n",
    "linear_predictions_validation_log"
   ]
  },
  {
   "cell_type": "code",
   "execution_count": 103,
   "metadata": {
    "hidden": true
   },
   "outputs": [],
   "source": [
    "linear_predictions_train_log = lm.predict(X_train_log)"
   ]
  },
  {
   "cell_type": "code",
   "execution_count": 104,
   "metadata": {
    "hidden": true
   },
   "outputs": [
    {
     "data": {
      "text/plain": [
       "0.32587001605500754"
      ]
     },
     "execution_count": 104,
     "metadata": {},
     "output_type": "execute_result"
    }
   ],
   "source": [
    "# The R^2 score is worse with the log test/train sets\n",
    "lm.score(X_train_log, y_train_log)"
   ]
  },
  {
   "cell_type": "markdown",
   "metadata": {
    "heading_collapsed": true
   },
   "source": [
    "# Get baseline OLS"
   ]
  },
  {
   "cell_type": "code",
   "execution_count": 105,
   "metadata": {
    "hidden": true
   },
   "outputs": [
    {
     "data": {
      "text/html": [
       "<table class=\"simpletable\">\n",
       "<caption>OLS Regression Results</caption>\n",
       "<tr>\n",
       "  <th>Dep. Variable:</th>       <td>list_price</td>    <th>  R-squared:         </th> <td>   0.289</td>\n",
       "</tr>\n",
       "<tr>\n",
       "  <th>Model:</th>                   <td>OLS</td>       <th>  Adj. R-squared:    </th> <td>   0.230</td>\n",
       "</tr>\n",
       "<tr>\n",
       "  <th>Method:</th>             <td>Least Squares</td>  <th>  F-statistic:       </th> <td>   4.849</td>\n",
       "</tr>\n",
       "<tr>\n",
       "  <th>Date:</th>             <td>Fri, 27 Apr 2018</td> <th>  Prob (F-statistic):</th> <td>1.16e-06</td>\n",
       "</tr>\n",
       "<tr>\n",
       "  <th>Time:</th>                 <td>07:23:27</td>     <th>  Log-Likelihood:    </th> <td> -791.37</td>\n",
       "</tr>\n",
       "<tr>\n",
       "  <th>No. Observations:</th>      <td>   156</td>      <th>  AIC:               </th> <td>   1609.</td>\n",
       "</tr>\n",
       "<tr>\n",
       "  <th>Df Residuals:</th>          <td>   143</td>      <th>  BIC:               </th> <td>   1648.</td>\n",
       "</tr>\n",
       "<tr>\n",
       "  <th>Df Model:</th>              <td>    12</td>      <th>                     </th>     <td> </td>   \n",
       "</tr>\n",
       "<tr>\n",
       "  <th>Covariance Type:</th>      <td>nonrobust</td>    <th>                     </th>     <td> </td>   \n",
       "</tr>\n",
       "</table>\n",
       "<table class=\"simpletable\">\n",
       "<tr>\n",
       "               <td></td>                  <th>coef</th>     <th>std err</th>      <th>t</th>      <th>P>|t|</th>  <th>[0.025</th>    <th>0.975]</th>  \n",
       "</tr>\n",
       "<tr>\n",
       "  <th>Intercept</th>                   <td>   52.6903</td> <td>   15.243</td> <td>    3.457</td> <td> 0.001</td> <td>   22.560</td> <td>   82.821</td>\n",
       "</tr>\n",
       "<tr>\n",
       "  <th>num_cust_reviews</th>            <td>   -0.0157</td> <td>    0.008</td> <td>   -1.936</td> <td> 0.055</td> <td>   -0.032</td> <td>    0.000</td>\n",
       "</tr>\n",
       "<tr>\n",
       "  <th>avg_cust_review</th>             <td>    1.9084</td> <td>    2.226</td> <td>    0.857</td> <td> 0.393</td> <td>   -2.493</td> <td>    6.309</td>\n",
       "</tr>\n",
       "<tr>\n",
       "  <th>num_answered_questions</th>      <td>    0.5068</td> <td>    0.178</td> <td>    2.849</td> <td> 0.005</td> <td>    0.155</td> <td>    0.858</td>\n",
       "</tr>\n",
       "<tr>\n",
       "  <th>product_discounts</th>           <td>    0.4782</td> <td>   93.726</td> <td>    0.005</td> <td> 0.996</td> <td> -184.789</td> <td>  185.745</td>\n",
       "</tr>\n",
       "<tr>\n",
       "  <th>time_on_market</th>              <td>    0.0337</td> <td>    0.006</td> <td>    5.332</td> <td> 0.000</td> <td>    0.021</td> <td>    0.046</td>\n",
       "</tr>\n",
       "<tr>\n",
       "  <th>seller_rank_boolean</th>         <td>   -9.4733</td> <td>    7.328</td> <td>   -1.293</td> <td> 0.198</td> <td>  -23.958</td> <td>    5.012</td>\n",
       "</tr>\n",
       "<tr>\n",
       "  <th>other_sellers_boolean</th>       <td>   -3.9058</td> <td>   48.078</td> <td>   -0.081</td> <td> 0.935</td> <td>  -98.942</td> <td>   91.130</td>\n",
       "</tr>\n",
       "<tr>\n",
       "  <th>expedited_shipping_boolean</th>  <td>    1.9845</td> <td>   22.399</td> <td>    0.089</td> <td> 0.930</td> <td>  -42.291</td> <td>   46.260</td>\n",
       "</tr>\n",
       "<tr>\n",
       "  <th>clothing_seller_rank</th>        <td> 1.697e-05</td> <td> 1.07e-05</td> <td>    1.592</td> <td> 0.114</td> <td> -4.1e-06</td> <td>  3.8e-05</td>\n",
       "</tr>\n",
       "<tr>\n",
       "  <th>seller_rank_binary_list</th>     <td>   -9.4733</td> <td>    7.328</td> <td>   -1.293</td> <td> 0.198</td> <td>  -23.958</td> <td>    5.012</td>\n",
       "</tr>\n",
       "<tr>\n",
       "  <th>num_bullets_description</th>     <td>   -4.3363</td> <td>    2.791</td> <td>   -1.553</td> <td> 0.123</td> <td>   -9.854</td> <td>    1.182</td>\n",
       "</tr>\n",
       "<tr>\n",
       "  <th>product_specs_image_boolean</th> <td>  -22.1801</td> <td>    8.117</td> <td>   -2.732</td> <td> 0.007</td> <td>  -38.225</td> <td>   -6.135</td>\n",
       "</tr>\n",
       "<tr>\n",
       "  <th>num_specs_bullets</th>           <td>   -0.0347</td> <td>    0.531</td> <td>   -0.065</td> <td> 0.948</td> <td>   -1.084</td> <td>    1.015</td>\n",
       "</tr>\n",
       "</table>\n",
       "<table class=\"simpletable\">\n",
       "<tr>\n",
       "  <th>Omnibus:</th>       <td>97.190</td> <th>  Durbin-Watson:     </th> <td>   1.929</td> \n",
       "</tr>\n",
       "<tr>\n",
       "  <th>Prob(Omnibus):</th> <td> 0.000</td> <th>  Jarque-Bera (JB):  </th> <td> 526.091</td> \n",
       "</tr>\n",
       "<tr>\n",
       "  <th>Skew:</th>          <td> 2.340</td> <th>  Prob(JB):          </th> <td>5.77e-115</td>\n",
       "</tr>\n",
       "<tr>\n",
       "  <th>Kurtosis:</th>      <td>10.684</td> <th>  Cond. No.          </th> <td>9.92e+22</td> \n",
       "</tr>\n",
       "</table>"
      ],
      "text/plain": [
       "<class 'statsmodels.iolib.summary.Summary'>\n",
       "\"\"\"\n",
       "                            OLS Regression Results                            \n",
       "==============================================================================\n",
       "Dep. Variable:             list_price   R-squared:                       0.289\n",
       "Model:                            OLS   Adj. R-squared:                  0.230\n",
       "Method:                 Least Squares   F-statistic:                     4.849\n",
       "Date:                Fri, 27 Apr 2018   Prob (F-statistic):           1.16e-06\n",
       "Time:                        07:23:27   Log-Likelihood:                -791.37\n",
       "No. Observations:                 156   AIC:                             1609.\n",
       "Df Residuals:                     143   BIC:                             1648.\n",
       "Df Model:                          12                                         \n",
       "Covariance Type:            nonrobust                                         \n",
       "===============================================================================================\n",
       "                                  coef    std err          t      P>|t|      [0.025      0.975]\n",
       "-----------------------------------------------------------------------------------------------\n",
       "Intercept                      52.6903     15.243      3.457      0.001      22.560      82.821\n",
       "num_cust_reviews               -0.0157      0.008     -1.936      0.055      -0.032       0.000\n",
       "avg_cust_review                 1.9084      2.226      0.857      0.393      -2.493       6.309\n",
       "num_answered_questions          0.5068      0.178      2.849      0.005       0.155       0.858\n",
       "product_discounts               0.4782     93.726      0.005      0.996    -184.789     185.745\n",
       "time_on_market                  0.0337      0.006      5.332      0.000       0.021       0.046\n",
       "seller_rank_boolean            -9.4733      7.328     -1.293      0.198     -23.958       5.012\n",
       "other_sellers_boolean          -3.9058     48.078     -0.081      0.935     -98.942      91.130\n",
       "expedited_shipping_boolean      1.9845     22.399      0.089      0.930     -42.291      46.260\n",
       "clothing_seller_rank         1.697e-05   1.07e-05      1.592      0.114    -4.1e-06     3.8e-05\n",
       "seller_rank_binary_list        -9.4733      7.328     -1.293      0.198     -23.958       5.012\n",
       "num_bullets_description        -4.3363      2.791     -1.553      0.123      -9.854       1.182\n",
       "product_specs_image_boolean   -22.1801      8.117     -2.732      0.007     -38.225      -6.135\n",
       "num_specs_bullets              -0.0347      0.531     -0.065      0.948      -1.084       1.015\n",
       "==============================================================================\n",
       "Omnibus:                       97.190   Durbin-Watson:                   1.929\n",
       "Prob(Omnibus):                  0.000   Jarque-Bera (JB):              526.091\n",
       "Skew:                           2.340   Prob(JB):                    5.77e-115\n",
       "Kurtosis:                      10.684   Cond. No.                     9.92e+22\n",
       "==============================================================================\n",
       "\n",
       "Warnings:\n",
       "[1] Standard Errors assume that the covariance matrix of the errors is correctly specified.\n",
       "[2] The smallest eigenvalue is 2.19e-33. This might indicate that there are\n",
       "strong multicollinearity problems or that the design matrix is singular.\n",
       "\"\"\""
      ]
     },
     "execution_count": 105,
     "metadata": {},
     "output_type": "execute_result"
    }
   ],
   "source": [
    "# Create your feature matrix (X) and target vector (y)\n",
    "# Get baseline without the squared features \n",
    "y_patsy, X_patsy = patsy.dmatrices('list_price ~ num_cust_reviews + avg_cust_review + num_answered_questions + product_discounts + time_on_market + seller_rank_boolean + other_sellers_boolean + expedited_shipping_boolean + clothing_seller_rank + seller_rank_binary_list + num_bullets_description + product_specs_image_boolean + num_specs_bullets', data=all_product_listings_for_modeling_list_price, return_type=\"dataframe\")\n",
    "# Create your model\n",
    "baseline_OLS = sm.OLS(y_patsy, X_patsy)\n",
    "# Fit your model to your training set\n",
    "fit_baseline = baseline_OLS.fit()\n",
    "# Print summary statistics of the model's performance\n",
    "fit_baseline.summary()"
   ]
  },
  {
   "cell_type": "markdown",
   "metadata": {},
   "source": [
    "# Plot the residuals per feature"
   ]
  },
  {
   "cell_type": "code",
   "execution_count": 106,
   "metadata": {},
   "outputs": [
    {
     "data": {
      "text/plain": [
       "Index(['num_cust_reviews', 'list_price', 'avg_cust_review',\n",
       "       'num_answered_questions', 'product_discounts', 'time_on_market',\n",
       "       'other_sellers_boolean', 'expedited_shipping_boolean',\n",
       "       'num_bullets_description', 'product_specs_image_boolean',\n",
       "       'num_specs_bullets', 'seller_rank_boolean', 'clothing_seller_rank',\n",
       "       'seller_rank_binary_list', 'num_cust_review_squared',\n",
       "       'avg_cust_review_squared', 'num_answered_questions_squared'],\n",
       "      dtype='object')"
      ]
     },
     "execution_count": 106,
     "metadata": {},
     "output_type": "execute_result"
    }
   ],
   "source": [
    "all_product_listings_for_modeling_list_price.columns"
   ]
  },
  {
   "cell_type": "markdown",
   "metadata": {},
   "source": [
    "### Check the num_cust_review"
   ]
  },
  {
   "cell_type": "code",
   "execution_count": 107,
   "metadata": {},
   "outputs": [
    {
     "data": {
      "text/plain": [
       "<matplotlib.collections.PathCollection at 0x1c1e9762e8>"
      ]
     },
     "execution_count": 107,
     "metadata": {},
     "output_type": "execute_result"
    },
    {
     "data": {
      "image/png": "[encoded data removed]",
      "text/plain": [
       "<Figure size 432x288 with 1 Axes>"
      ]
     },
     "metadata": {},
     "output_type": "display_data"
    }
   ],
   "source": [
    "# Plot against num_cust_reviews\n",
    "# It seems that is a little bit of heteroskidasticity. We should try to make num_cust_reviews a degree up \n",
    "plt.scatter(X_train[:,0], linear_predictions_train - y_train)"
   ]
  },
  {
   "cell_type": "code",
   "execution_count": 108,
   "metadata": {},
   "outputs": [
    {
     "data": {
      "text/plain": [
       "<matplotlib.collections.PathCollection at 0x1c1e2588d0>"
      ]
     },
     "execution_count": 108,
     "metadata": {},
     "output_type": "execute_result"
    },
    {
     "data": {
      "image/png": "[encoded data removed]",
      "text/plain": [
       "<Figure size 432x288 with 1 Axes>"
      ]
     },
     "metadata": {},
     "output_type": "display_data"
    }
   ],
   "source": [
    "# looks about the same when comparing to log price\n",
    "# That said, it looks more scattered with the log price but the error amoung is much smaller\n",
    "plt.scatter(X_train_log[:,0], linear_predictions_train_log - y_train_log)"
   ]
  },
  {
   "cell_type": "markdown",
   "metadata": {
    "heading_collapsed": true
   },
   "source": [
    "### Check avg_cust_review"
   ]
  },
  {
   "cell_type": "code",
   "execution_count": 109,
   "metadata": {
    "hidden": true
   },
   "outputs": [
    {
     "data": {
      "text/plain": [
       "<matplotlib.collections.PathCollection at 0x1c1e13f4a8>"
      ]
     },
     "execution_count": 109,
     "metadata": {},
     "output_type": "execute_result"
    },
    {
     "data": {
      "image/png": "[encoded data removed]",
      "text/plain": [
       "<Figure size 432x288 with 1 Axes>"
      ]
     },
     "metadata": {},
     "output_type": "display_data"
    }
   ],
   "source": [
    "# It looks like there is definitely heteroskidastiticy.\n",
    "# Therefore, we should probably apply another feature that is avg_cust_review degree 2\n",
    "plt.scatter(X_train[:,1], linear_predictions_train - y_train)"
   ]
  },
  {
   "cell_type": "code",
   "execution_count": 110,
   "metadata": {
    "hidden": true
   },
   "outputs": [
    {
     "data": {
      "text/plain": [
       "<matplotlib.collections.PathCollection at 0x1c1d0753c8>"
      ]
     },
     "execution_count": 110,
     "metadata": {},
     "output_type": "execute_result"
    },
    {
     "data": {
      "image/png": "[encoded data removed]",
      "text/plain": [
       "<Figure size 432x288 with 1 Axes>"
      ]
     },
     "metadata": {},
     "output_type": "display_data"
    }
   ],
   "source": [
    "# Just as with num_cust_review, avg_cust_review seems to have more heteroskidasticity with the log_price, but lower error values\n",
    "plt.scatter(X_train_log[:,1], linear_predictions_train_log - y_train_log)"
   ]
  },
  {
   "cell_type": "markdown",
   "metadata": {
    "heading_collapsed": true
   },
   "source": [
    "### Check num_answered_questions"
   ]
  },
  {
   "cell_type": "code",
   "execution_count": 111,
   "metadata": {
    "hidden": true
   },
   "outputs": [
    {
     "data": {
      "text/plain": [
       "<matplotlib.collections.PathCollection at 0x1c1c95b908>"
      ]
     },
     "execution_count": 111,
     "metadata": {},
     "output_type": "execute_result"
    },
    {
     "data": {
      "image/png": "[encoded data removed]",
      "text/plain": [
       "<Figure size 432x288 with 1 Axes>"
      ]
     },
     "metadata": {},
     "output_type": "display_data"
    }
   ],
   "source": [
    "# It seems like there might be heteroskidasticity, but not much\n",
    "plt.scatter(X_train[:,2], linear_predictions_train - y_train)"
   ]
  },
  {
   "cell_type": "code",
   "execution_count": 112,
   "metadata": {
    "hidden": true
   },
   "outputs": [
    {
     "data": {
      "text/plain": [
       "<matplotlib.collections.PathCollection at 0x108222dd8>"
      ]
     },
     "execution_count": 112,
     "metadata": {},
     "output_type": "execute_result"
    },
    {
     "data": {
      "image/png": "[encoded data removed]",
      "text/plain": [
       "<Figure size 432x288 with 1 Axes>"
      ]
     },
     "metadata": {},
     "output_type": "display_data"
    }
   ],
   "source": [
    "plt.scatter(X_train_log[:,2], linear_predictions_train_log - y_train_log)"
   ]
  },
  {
   "cell_type": "markdown",
   "metadata": {
    "heading_collapsed": true
   },
   "source": [
    "### Check time_on_market"
   ]
  },
  {
   "cell_type": "code",
   "execution_count": 113,
   "metadata": {
    "hidden": true
   },
   "outputs": [
    {
     "data": {
      "text/plain": [
       "<matplotlib.collections.PathCollection at 0x1c1c0dac50>"
      ]
     },
     "execution_count": 113,
     "metadata": {},
     "output_type": "execute_result"
    },
    {
     "data": {
      "image/png": "[encoded data removed]",
      "text/plain": [
       "<Figure size 432x288 with 1 Axes>"
      ]
     },
     "metadata": {},
     "output_type": "display_data"
    }
   ],
   "source": [
    "# Not much to see, except that there is isn't much error but there isn't much else to get out of the feature\n",
    "plt.scatter(X_train[:,3], linear_predictions_train - y_train)"
   ]
  },
  {
   "cell_type": "markdown",
   "metadata": {
    "heading_collapsed": true
   },
   "source": [
    "### Check other_sellers_boolean"
   ]
  },
  {
   "cell_type": "code",
   "execution_count": 114,
   "metadata": {
    "hidden": true
   },
   "outputs": [
    {
     "data": {
      "text/plain": [
       "<matplotlib.collections.PathCollection at 0x1c1b30f2b0>"
      ]
     },
     "execution_count": 114,
     "metadata": {},
     "output_type": "execute_result"
    },
    {
     "data": {
      "image/png": "[encoded data removed]",
      "text/plain": [
       "<Figure size 432x288 with 1 Axes>"
      ]
     },
     "metadata": {},
     "output_type": "display_data"
    }
   ],
   "source": [
    "# There's one odd outlier at 12, but everything else is a 0 value. \n",
    "plt.scatter(X_train[:,4], linear_predictions_train - y_train)"
   ]
  },
  {
   "cell_type": "markdown",
   "metadata": {
    "heading_collapsed": true
   },
   "source": [
    "### Check the num_bullets_description"
   ]
  },
  {
   "cell_type": "code",
   "execution_count": 115,
   "metadata": {
    "hidden": true
   },
   "outputs": [
    {
     "data": {
      "text/plain": [
       "<matplotlib.collections.PathCollection at 0x1c1ead4668>"
      ]
     },
     "execution_count": 115,
     "metadata": {},
     "output_type": "execute_result"
    },
    {
     "data": {
      "image/png": "[encoded data removed]",
      "text/plain": [
       "<Figure size 432x288 with 1 Axes>"
      ]
     },
     "metadata": {},
     "output_type": "display_data"
    }
   ],
   "source": [
    "# There seems to be a pattern with the errors along the zero axis, so we might have a good feature here\n",
    "plt.scatter(X_train[:,5], linear_predictions_train - y_train)"
   ]
  },
  {
   "cell_type": "markdown",
   "metadata": {
    "heading_collapsed": true
   },
   "source": [
    "### Check the product_specs_image_boolean"
   ]
  },
  {
   "cell_type": "code",
   "execution_count": 116,
   "metadata": {
    "hidden": true
   },
   "outputs": [
    {
     "data": {
      "text/plain": [
       "<matplotlib.collections.PathCollection at 0x1c1e996828>"
      ]
     },
     "execution_count": 116,
     "metadata": {},
     "output_type": "execute_result"
    },
    {
     "data": {
      "image/png": "[encoded data removed]",
      "text/plain": [
       "<Figure size 432x288 with 1 Axes>"
      ]
     },
     "metadata": {},
     "output_type": "display_data"
    }
   ],
   "source": [
    "# Not much to do with this feature\n",
    "plt.scatter(X_train[:,6], linear_predictions_train - y_train)"
   ]
  },
  {
   "cell_type": "markdown",
   "metadata": {
    "heading_collapsed": true
   },
   "source": [
    "### Check the num_specs_bullets"
   ]
  },
  {
   "cell_type": "code",
   "execution_count": 117,
   "metadata": {
    "hidden": true
   },
   "outputs": [
    {
     "data": {
      "text/plain": [
       "<matplotlib.collections.PathCollection at 0x1c1ebf1e48>"
      ]
     },
     "execution_count": 117,
     "metadata": {},
     "output_type": "execute_result"
    },
    {
     "data": {
      "image/png": "[encoded data removed]",
      "text/plain": [
       "<Figure size 432x288 with 1 Axes>"
      ]
     },
     "metadata": {},
     "output_type": "display_data"
    }
   ],
   "source": [
    "# Aside from the values that are oddly below 0, it seems like most of the values are around the 0 error, which is great!\n",
    "plt.scatter(X_train[:,7], linear_predictions_train - y_train)"
   ]
  },
  {
   "cell_type": "markdown",
   "metadata": {
    "heading_collapsed": true
   },
   "source": [
    "### Check clothing_seller_rank"
   ]
  },
  {
   "cell_type": "code",
   "execution_count": 118,
   "metadata": {
    "hidden": true
   },
   "outputs": [
    {
     "data": {
      "text/plain": [
       "<matplotlib.collections.PathCollection at 0x1c1ed56860>"
      ]
     },
     "execution_count": 118,
     "metadata": {},
     "output_type": "execute_result"
    },
    {
     "data": {
      "image/png": "[encoded data removed]",
      "text/plain": [
       "<Figure size 432x288 with 1 Axes>"
      ]
     },
     "metadata": {},
     "output_type": "display_data"
    }
   ],
   "source": [
    "# There seems to be a little bit of heteroskidasticity\n",
    "# We might want to make a new feature of degree 2 out of this feature\n",
    "plt.scatter(X_train[:,8], linear_predictions_train - y_train)"
   ]
  },
  {
   "cell_type": "markdown",
   "metadata": {
    "heading_collapsed": true
   },
   "source": [
    "### Check seller_rank_binary_list"
   ]
  },
  {
   "cell_type": "code",
   "execution_count": 119,
   "metadata": {
    "hidden": true
   },
   "outputs": [
    {
     "data": {
      "text/plain": [
       "<matplotlib.collections.PathCollection at 0x1c1ee08160>"
      ]
     },
     "execution_count": 119,
     "metadata": {},
     "output_type": "execute_result"
    },
    {
     "data": {
      "image/png": "[encoded data removed]",
      "text/plain": [
       "<Figure size 432x288 with 1 Axes>"
      ]
     },
     "metadata": {},
     "output_type": "display_data"
    }
   ],
   "source": [
    "# Not sure if this feature is valuable\n",
    "plt.scatter(X_train[:,9], linear_predictions_train - y_train)"
   ]
  },
  {
   "cell_type": "markdown",
   "metadata": {
    "heading_collapsed": true
   },
   "source": [
    "### Check the num_cust_review_squared"
   ]
  },
  {
   "cell_type": "code",
   "execution_count": 120,
   "metadata": {
    "hidden": true
   },
   "outputs": [
    {
     "data": {
      "text/plain": [
       "<matplotlib.collections.PathCollection at 0x1c1ecbe780>"
      ]
     },
     "execution_count": 120,
     "metadata": {},
     "output_type": "execute_result"
    },
    {
     "data": {
      "image/png": "[encoded data removed]",
      "text/plain": [
       "<Figure size 432x288 with 1 Axes>"
      ]
     },
     "metadata": {},
     "output_type": "display_data"
    }
   ],
   "source": [
    "# The heteroscidasticity is removed when you add the degree to this feature. So that seems good?\n",
    "plt.scatter(X_train[:,10], linear_predictions_train - y_train)"
   ]
  },
  {
   "cell_type": "markdown",
   "metadata": {
    "heading_collapsed": true
   },
   "source": [
    "### Check the avg_cust_review_squared"
   ]
  },
  {
   "cell_type": "code",
   "execution_count": 121,
   "metadata": {
    "hidden": true
   },
   "outputs": [
    {
     "data": {
      "text/plain": [
       "<matplotlib.collections.PathCollection at 0x1c1ef9f828>"
      ]
     },
     "execution_count": 121,
     "metadata": {},
     "output_type": "execute_result"
    },
    {
     "data": {
      "image/png": "[encoded data removed]",
      "text/plain": [
       "<Figure size 432x288 with 1 Axes>"
      ]
     },
     "metadata": {},
     "output_type": "display_data"
    }
   ],
   "source": [
    "# The heteroscidasticity is reduced when we add a degree to the avg_cust_review feature\n",
    "plt.scatter(X_train[:,11], linear_predictions_train - y_train)"
   ]
  },
  {
   "cell_type": "markdown",
   "metadata": {
    "heading_collapsed": true
   },
   "source": [
    "### num_answered_questions_squared"
   ]
  },
  {
   "cell_type": "code",
   "execution_count": 122,
   "metadata": {
    "hidden": true
   },
   "outputs": [
    {
     "data": {
      "text/plain": [
       "<matplotlib.collections.PathCollection at 0x1c1f2d6e48>"
      ]
     },
     "execution_count": 122,
     "metadata": {},
     "output_type": "execute_result"
    },
    {
     "data": {
      "image/png": "[encoded data removed]",
      "text/plain": [
       "<Figure size 432x288 with 1 Axes>"
      ]
     },
     "metadata": {},
     "output_type": "display_data"
    }
   ],
   "source": [
    "# The heteroscidasticity is completely removed when I add a degree to num_answered_questions\n",
    "plt.scatter(X_train[:,12], linear_predictions_train - y_train)"
   ]
  },
  {
   "cell_type": "markdown",
   "metadata": {
    "heading_collapsed": true
   },
   "source": [
    "# Obtain baseline linear fits"
   ]
  },
  {
   "cell_type": "code",
   "execution_count": 123,
   "metadata": {
    "hidden": true
   },
   "outputs": [
    {
     "data": {
      "text/plain": [
       "Text(0.5,1,'Linear Regression Model on Training Data')"
      ]
     },
     "execution_count": 123,
     "metadata": {},
     "output_type": "execute_result"
    },
    {
     "data": {
      "image/png": "[encoded data removed]",
      "text/plain": [
       "<Figure size 432x288 with 1 Axes>"
      ]
     },
     "metadata": {},
     "output_type": "display_data"
    }
   ],
   "source": [
    "# It looks like this linear regression model is not fitting well my training data. \n",
    "# Let's check the validation data\n",
    "plt.scatter(y_train, linear_predictions_train)\n",
    "plt.plot([0,300],[0,300],'r--')\n",
    "plt.xlabel('True Values')\n",
    "plt.ylabel('Predictions')\n",
    "plt.title('Linear Regression Model on Training Data')\n"
   ]
  },
  {
   "cell_type": "code",
   "execution_count": 124,
   "metadata": {
    "hidden": true
   },
   "outputs": [
    {
     "data": {
      "text/plain": [
       "Text(0.5,1,'Linear Regression Model on Training Data against Log_price')"
      ]
     },
     "execution_count": 124,
     "metadata": {},
     "output_type": "execute_result"
    },
    {
     "data": {
      "image/png": "[encoded data removed]",
      "text/plain": [
       "<Figure size 432x288 with 1 Axes>"
      ]
     },
     "metadata": {},
     "output_type": "display_data"
    }
   ],
   "source": [
    "# It seems to be fitting better on the log_price training set.\n",
    "plt.scatter(y_train_log, linear_predictions_train_log)\n",
    "plt.plot([0,10],[0,10],'r--')\n",
    "plt.xlabel('True Values')\n",
    "plt.ylabel('Predictions')\n",
    "plt.title('Linear Regression Model on Training Data against Log_price')"
   ]
  },
  {
   "cell_type": "code",
   "execution_count": 125,
   "metadata": {
    "hidden": true
   },
   "outputs": [
    {
     "data": {
      "text/plain": [
       "-0.18103006483752848"
      ]
     },
     "execution_count": 125,
     "metadata": {},
     "output_type": "execute_result"
    }
   ],
   "source": [
    "# Since my R^2 is negative, I believe I need to add degrees to my linear model \n",
    "linear_model_fit_log.score(X_val_log, y_val_log)"
   ]
  },
  {
   "cell_type": "code",
   "execution_count": 126,
   "metadata": {
    "hidden": true
   },
   "outputs": [
    {
     "data": {
      "text/plain": [
       "Text(0.5,1,'Linear Regression Model on Validation Data')"
      ]
     },
     "execution_count": 126,
     "metadata": {},
     "output_type": "execute_result"
    },
    {
     "data": {
      "image/png": "[encoded data removed]",
      "text/plain": [
       "<Figure size 432x288 with 1 Axes>"
      ]
     },
     "metadata": {},
     "output_type": "display_data"
    }
   ],
   "source": [
    "# It looks like the linear regression model is not a good fit for the validation data\n",
    "plt.scatter(y_val, linear_predictions_validation)\n",
    "plt.plot([0,100],[0,100],'r--')\n",
    "plt.xlabel('True Values')\n",
    "plt.ylabel('Predictions')\n",
    "plt.title('Linear Regression Model on Validation Data')"
   ]
  },
  {
   "cell_type": "code",
   "execution_count": 127,
   "metadata": {
    "hidden": true
   },
   "outputs": [
    {
     "data": {
      "text/plain": [
       "-1.7355563327860821"
      ]
     },
     "execution_count": 127,
     "metadata": {},
     "output_type": "execute_result"
    }
   ],
   "source": [
    "# It looks like our accuracy for the linear model is not good, which is apparent in the above plot\n",
    "linear_model_fit.score(X_val, y_val)"
   ]
  },
  {
   "cell_type": "markdown",
   "metadata": {
    "heading_collapsed": true
   },
   "source": [
    "# Conclusions from linear fit plots and scores\n",
    "Since we're not fitting well for neither the test nor training data, we are in high bias.\n",
    "Therefore, we should try adding features to get our model to fit at least the training data. Since I've already added all the features I think I need, I will try using a polynomial function. The current goal is to get to a point of fitting the training set better."
   ]
  },
  {
   "cell_type": "code",
   "execution_count": 128,
   "metadata": {
    "hidden": true
   },
   "outputs": [
    {
     "data": {
      "text/plain": [
       "Index(['num_cust_reviews', 'list_price', 'avg_cust_review',\n",
       "       'num_answered_questions', 'product_discounts', 'time_on_market',\n",
       "       'other_sellers_boolean', 'expedited_shipping_boolean',\n",
       "       'num_bullets_description', 'product_specs_image_boolean',\n",
       "       'num_specs_bullets', 'seller_rank_boolean', 'clothing_seller_rank',\n",
       "       'seller_rank_binary_list', 'num_cust_review_squared',\n",
       "       'avg_cust_review_squared', 'num_answered_questions_squared'],\n",
       "      dtype='object')"
      ]
     },
     "execution_count": 128,
     "metadata": {},
     "output_type": "execute_result"
    }
   ],
   "source": [
    "all_product_listings_for_modeling_list_price.columns"
   ]
  },
  {
   "cell_type": "code",
   "execution_count": 129,
   "metadata": {
    "hidden": true
   },
   "outputs": [
    {
     "data": {
      "text/html": [
       "<table class=\"simpletable\">\n",
       "<caption>OLS Regression Results</caption>\n",
       "<tr>\n",
       "  <th>Dep. Variable:</th>       <td>list_price</td>    <th>  R-squared:         </th> <td>   0.360</td>\n",
       "</tr>\n",
       "<tr>\n",
       "  <th>Model:</th>                   <td>OLS</td>       <th>  Adj. R-squared:    </th> <td>   0.296</td>\n",
       "</tr>\n",
       "<tr>\n",
       "  <th>Method:</th>             <td>Least Squares</td>  <th>  F-statistic:       </th> <td>   5.664</td>\n",
       "</tr>\n",
       "<tr>\n",
       "  <th>Date:</th>             <td>Fri, 27 Apr 2018</td> <th>  Prob (F-statistic):</th> <td>1.26e-08</td>\n",
       "</tr>\n",
       "<tr>\n",
       "  <th>Time:</th>                 <td>07:23:30</td>     <th>  Log-Likelihood:    </th> <td> -783.20</td>\n",
       "</tr>\n",
       "<tr>\n",
       "  <th>No. Observations:</th>      <td>   156</td>      <th>  AIC:               </th> <td>   1596.</td>\n",
       "</tr>\n",
       "<tr>\n",
       "  <th>Df Residuals:</th>          <td>   141</td>      <th>  BIC:               </th> <td>   1642.</td>\n",
       "</tr>\n",
       "<tr>\n",
       "  <th>Df Model:</th>              <td>    14</td>      <th>                     </th>     <td> </td>   \n",
       "</tr>\n",
       "<tr>\n",
       "  <th>Covariance Type:</th>      <td>nonrobust</td>    <th>                     </th>     <td> </td>   \n",
       "</tr>\n",
       "</table>\n",
       "<table class=\"simpletable\">\n",
       "<tr>\n",
       "                 <td></td>                   <th>coef</th>     <th>std err</th>      <th>t</th>      <th>P>|t|</th>  <th>[0.025</th>    <th>0.975]</th>  \n",
       "</tr>\n",
       "<tr>\n",
       "  <th>Intercept</th>                      <td>   46.0840</td> <td>   14.803</td> <td>    3.113</td> <td> 0.002</td> <td>   16.820</td> <td>   75.348</td>\n",
       "</tr>\n",
       "<tr>\n",
       "  <th>num_cust_reviews</th>               <td>   -0.0138</td> <td>    0.008</td> <td>   -1.740</td> <td> 0.084</td> <td>   -0.030</td> <td>    0.002</td>\n",
       "</tr>\n",
       "<tr>\n",
       "  <th>avg_cust_review</th>                <td>  -22.8261</td> <td>    9.951</td> <td>   -2.294</td> <td> 0.023</td> <td>  -42.498</td> <td>   -3.154</td>\n",
       "</tr>\n",
       "<tr>\n",
       "  <th>num_answered_questions</th>         <td>   -0.3104</td> <td>    0.382</td> <td>   -0.813</td> <td> 0.418</td> <td>   -1.066</td> <td>    0.445</td>\n",
       "</tr>\n",
       "<tr>\n",
       "  <th>product_discounts</th>              <td>  -29.2255</td> <td>   90.618</td> <td>   -0.323</td> <td> 0.748</td> <td> -208.371</td> <td>  149.920</td>\n",
       "</tr>\n",
       "<tr>\n",
       "  <th>time_on_market</th>                 <td>    0.0314</td> <td>    0.006</td> <td>    5.010</td> <td> 0.000</td> <td>    0.019</td> <td>    0.044</td>\n",
       "</tr>\n",
       "<tr>\n",
       "  <th>seller_rank_boolean</th>            <td>   -6.2347</td> <td>    7.067</td> <td>   -0.882</td> <td> 0.379</td> <td>  -20.206</td> <td>    7.737</td>\n",
       "</tr>\n",
       "<tr>\n",
       "  <th>other_sellers_boolean</th>          <td>  -17.8362</td> <td>   46.257</td> <td>   -0.386</td> <td> 0.700</td> <td> -109.282</td> <td>   73.610</td>\n",
       "</tr>\n",
       "<tr>\n",
       "  <th>expedited_shipping_boolean</th>     <td>   10.4332</td> <td>   21.792</td> <td>    0.479</td> <td> 0.633</td> <td>  -32.647</td> <td>   53.514</td>\n",
       "</tr>\n",
       "<tr>\n",
       "  <th>clothing_seller_rank</th>           <td> 1.147e-05</td> <td> 1.03e-05</td> <td>    1.114</td> <td> 0.267</td> <td>-8.89e-06</td> <td> 3.18e-05</td>\n",
       "</tr>\n",
       "<tr>\n",
       "  <th>seller_rank_binary_list</th>        <td>   -6.2347</td> <td>    7.067</td> <td>   -0.882</td> <td> 0.379</td> <td>  -20.206</td> <td>    7.737</td>\n",
       "</tr>\n",
       "<tr>\n",
       "  <th>num_bullets_description</th>        <td>   -2.6327</td> <td>    2.749</td> <td>   -0.958</td> <td> 0.340</td> <td>   -8.067</td> <td>    2.801</td>\n",
       "</tr>\n",
       "<tr>\n",
       "  <th>product_specs_image_boolean</th>    <td>  -16.8231</td> <td>    7.897</td> <td>   -2.130</td> <td> 0.035</td> <td>  -32.434</td> <td>   -1.212</td>\n",
       "</tr>\n",
       "<tr>\n",
       "  <th>num_specs_bullets</th>              <td>    0.1790</td> <td>    0.513</td> <td>    0.349</td> <td> 0.728</td> <td>   -0.835</td> <td>    1.193</td>\n",
       "</tr>\n",
       "<tr>\n",
       "  <th>num_answered_questions_squared</th> <td>    0.0056</td> <td>    0.002</td> <td>    2.443</td> <td> 0.016</td> <td>    0.001</td> <td>    0.010</td>\n",
       "</tr>\n",
       "<tr>\n",
       "  <th>avg_cust_review_squared</th>        <td>    5.4876</td> <td>    2.073</td> <td>    2.648</td> <td> 0.009</td> <td>    1.390</td> <td>    9.585</td>\n",
       "</tr>\n",
       "</table>\n",
       "<table class=\"simpletable\">\n",
       "<tr>\n",
       "  <th>Omnibus:</th>       <td>98.381</td> <th>  Durbin-Watson:     </th> <td>   1.909</td> \n",
       "</tr>\n",
       "<tr>\n",
       "  <th>Prob(Omnibus):</th> <td> 0.000</td> <th>  Jarque-Bera (JB):  </th> <td> 580.756</td> \n",
       "</tr>\n",
       "<tr>\n",
       "  <th>Skew:</th>          <td> 2.329</td> <th>  Prob(JB):          </th> <td>7.77e-127</td>\n",
       "</tr>\n",
       "<tr>\n",
       "  <th>Kurtosis:</th>      <td>11.225</td> <th>  Cond. No.          </th> <td>7.48e+22</td> \n",
       "</tr>\n",
       "</table>"
      ],
      "text/plain": [
       "<class 'statsmodels.iolib.summary.Summary'>\n",
       "\"\"\"\n",
       "                            OLS Regression Results                            \n",
       "==============================================================================\n",
       "Dep. Variable:             list_price   R-squared:                       0.360\n",
       "Model:                            OLS   Adj. R-squared:                  0.296\n",
       "Method:                 Least Squares   F-statistic:                     5.664\n",
       "Date:                Fri, 27 Apr 2018   Prob (F-statistic):           1.26e-08\n",
       "Time:                        07:23:30   Log-Likelihood:                -783.20\n",
       "No. Observations:                 156   AIC:                             1596.\n",
       "Df Residuals:                     141   BIC:                             1642.\n",
       "Df Model:                          14                                         \n",
       "Covariance Type:            nonrobust                                         \n",
       "==================================================================================================\n",
       "                                     coef    std err          t      P>|t|      [0.025      0.975]\n",
       "--------------------------------------------------------------------------------------------------\n",
       "Intercept                         46.0840     14.803      3.113      0.002      16.820      75.348\n",
       "num_cust_reviews                  -0.0138      0.008     -1.740      0.084      -0.030       0.002\n",
       "avg_cust_review                  -22.8261      9.951     -2.294      0.023     -42.498      -3.154\n",
       "num_answered_questions            -0.3104      0.382     -0.813      0.418      -1.066       0.445\n",
       "product_discounts                -29.2255     90.618     -0.323      0.748    -208.371     149.920\n",
       "time_on_market                     0.0314      0.006      5.010      0.000       0.019       0.044\n",
       "seller_rank_boolean               -6.2347      7.067     -0.882      0.379     -20.206       7.737\n",
       "other_sellers_boolean            -17.8362     46.257     -0.386      0.700    -109.282      73.610\n",
       "expedited_shipping_boolean        10.4332     21.792      0.479      0.633     -32.647      53.514\n",
       "clothing_seller_rank            1.147e-05   1.03e-05      1.114      0.267   -8.89e-06    3.18e-05\n",
       "seller_rank_binary_list           -6.2347      7.067     -0.882      0.379     -20.206       7.737\n",
       "num_bullets_description           -2.6327      2.749     -0.958      0.340      -8.067       2.801\n",
       "product_specs_image_boolean      -16.8231      7.897     -2.130      0.035     -32.434      -1.212\n",
       "num_specs_bullets                  0.1790      0.513      0.349      0.728      -0.835       1.193\n",
       "num_answered_questions_squared     0.0056      0.002      2.443      0.016       0.001       0.010\n",
       "avg_cust_review_squared            5.4876      2.073      2.648      0.009       1.390       9.585\n",
       "==============================================================================\n",
       "Omnibus:                       98.381   Durbin-Watson:                   1.909\n",
       "Prob(Omnibus):                  0.000   Jarque-Bera (JB):              580.756\n",
       "Skew:                           2.329   Prob(JB):                    7.77e-127\n",
       "Kurtosis:                      11.225   Cond. No.                     7.48e+22\n",
       "==============================================================================\n",
       "\n",
       "Warnings:\n",
       "[1] Standard Errors assume that the covariance matrix of the errors is correctly specified.\n",
       "[2] The smallest eigenvalue is 3.85e-33. This might indicate that there are\n",
       "strong multicollinearity problems or that the design matrix is singular.\n",
       "\"\"\""
      ]
     },
     "execution_count": 129,
     "metadata": {},
     "output_type": "execute_result"
    }
   ],
   "source": [
    "# Added the squared features and it seems that my adjusted R-squared went up, slightly\n",
    "# I believe I have some colinearity between other_sellers_boolean and expedited_shipping_boolean, since they \n",
    "    # have basically the same values (zeros) because there was very few examples of those in my products set\n",
    "# Create your feature matrix (X) and target vector (y)\n",
    "y_patsy, X_patsy = patsy.dmatrices('list_price ~ num_cust_reviews + avg_cust_review + num_answered_questions + product_discounts + time_on_market + seller_rank_boolean + other_sellers_boolean + expedited_shipping_boolean + clothing_seller_rank + seller_rank_binary_list + num_bullets_description + product_specs_image_boolean + num_specs_bullets + num_answered_questions_squared + avg_cust_review_squared + num_answered_questions_squared', data=all_product_listings_for_modeling_list_price, return_type=\"dataframe\")\n",
    "# Create your model\n",
    "added_degree_2_OLS = sm.OLS(y_patsy, X_patsy)\n",
    "# Fit your model to your training set\n",
    "fit_degree2 = added_degree_2_OLS.fit()\n",
    "# Print summary statistics of the model's performance\n",
    "fit_degree2.summary()"
   ]
  },
  {
   "cell_type": "code",
   "execution_count": 130,
   "metadata": {
    "hidden": true
   },
   "outputs": [
    {
     "data": {
      "text/html": [
       "<table class=\"simpletable\">\n",
       "<caption>OLS Regression Results</caption>\n",
       "<tr>\n",
       "  <th>Dep. Variable:</th>       <td>list_price</td>    <th>  R-squared:         </th> <td>   0.359</td>\n",
       "</tr>\n",
       "<tr>\n",
       "  <th>Model:</th>                   <td>OLS</td>       <th>  Adj. R-squared:    </th> <td>   0.301</td>\n",
       "</tr>\n",
       "<tr>\n",
       "  <th>Method:</th>             <td>Least Squares</td>  <th>  F-statistic:       </th> <td>   6.125</td>\n",
       "</tr>\n",
       "<tr>\n",
       "  <th>Date:</th>             <td>Fri, 27 Apr 2018</td> <th>  Prob (F-statistic):</th> <td>5.25e-09</td>\n",
       "</tr>\n",
       "<tr>\n",
       "  <th>Time:</th>                 <td>07:23:30</td>     <th>  Log-Likelihood:    </th> <td> -783.28</td>\n",
       "</tr>\n",
       "<tr>\n",
       "  <th>No. Observations:</th>      <td>   156</td>      <th>  AIC:               </th> <td>   1595.</td>\n",
       "</tr>\n",
       "<tr>\n",
       "  <th>Df Residuals:</th>          <td>   142</td>      <th>  BIC:               </th> <td>   1637.</td>\n",
       "</tr>\n",
       "<tr>\n",
       "  <th>Df Model:</th>              <td>    13</td>      <th>                     </th>     <td> </td>   \n",
       "</tr>\n",
       "<tr>\n",
       "  <th>Covariance Type:</th>      <td>nonrobust</td>    <th>                     </th>     <td> </td>   \n",
       "</tr>\n",
       "</table>\n",
       "<table class=\"simpletable\">\n",
       "<tr>\n",
       "                 <td></td>                   <th>coef</th>     <th>std err</th>      <th>t</th>      <th>P>|t|</th>  <th>[0.025</th>    <th>0.975]</th>  \n",
       "</tr>\n",
       "<tr>\n",
       "  <th>Intercept</th>                      <td>   44.9490</td> <td>   14.464</td> <td>    3.108</td> <td> 0.002</td> <td>   16.357</td> <td>   73.541</td>\n",
       "</tr>\n",
       "<tr>\n",
       "  <th>num_cust_reviews</th>               <td>   -0.0140</td> <td>    0.008</td> <td>   -1.766</td> <td> 0.080</td> <td>   -0.030</td> <td>    0.002</td>\n",
       "</tr>\n",
       "<tr>\n",
       "  <th>avg_cust_review</th>                <td>  -22.8778</td> <td>    9.920</td> <td>   -2.306</td> <td> 0.023</td> <td>  -42.488</td> <td>   -3.268</td>\n",
       "</tr>\n",
       "<tr>\n",
       "  <th>num_answered_questions</th>         <td>   -0.2917</td> <td>    0.378</td> <td>   -0.772</td> <td> 0.441</td> <td>   -1.039</td> <td>    0.455</td>\n",
       "</tr>\n",
       "<tr>\n",
       "  <th>product_discounts</th>              <td>  -16.8224</td> <td>   84.462</td> <td>   -0.199</td> <td> 0.842</td> <td> -183.789</td> <td>  150.144</td>\n",
       "</tr>\n",
       "<tr>\n",
       "  <th>time_on_market</th>                 <td>    0.0317</td> <td>    0.006</td> <td>    5.084</td> <td> 0.000</td> <td>    0.019</td> <td>    0.044</td>\n",
       "</tr>\n",
       "<tr>\n",
       "  <th>seller_rank_boolean</th>            <td>   -5.6607</td> <td>    6.888</td> <td>   -0.822</td> <td> 0.413</td> <td>  -19.277</td> <td>    7.955</td>\n",
       "</tr>\n",
       "<tr>\n",
       "  <th>expedited_shipping_boolean</th>     <td>    6.4232</td> <td>   19.093</td> <td>    0.336</td> <td> 0.737</td> <td>  -31.319</td> <td>   44.166</td>\n",
       "</tr>\n",
       "<tr>\n",
       "  <th>clothing_seller_rank</th>           <td> 1.144e-05</td> <td> 1.03e-05</td> <td>    1.114</td> <td> 0.267</td> <td>-8.86e-06</td> <td> 3.17e-05</td>\n",
       "</tr>\n",
       "<tr>\n",
       "  <th>seller_rank_binary_list</th>        <td>   -5.6607</td> <td>    6.888</td> <td>   -0.822</td> <td> 0.413</td> <td>  -19.277</td> <td>    7.955</td>\n",
       "</tr>\n",
       "<tr>\n",
       "  <th>num_bullets_description</th>        <td>   -2.6408</td> <td>    2.740</td> <td>   -0.964</td> <td> 0.337</td> <td>   -8.058</td> <td>    2.777</td>\n",
       "</tr>\n",
       "<tr>\n",
       "  <th>product_specs_image_boolean</th>    <td>  -17.0986</td> <td>    7.841</td> <td>   -2.181</td> <td> 0.031</td> <td>  -32.598</td> <td>   -1.599</td>\n",
       "</tr>\n",
       "<tr>\n",
       "  <th>num_specs_bullets</th>              <td>    0.1819</td> <td>    0.511</td> <td>    0.356</td> <td> 0.722</td> <td>   -0.829</td> <td>    1.193</td>\n",
       "</tr>\n",
       "<tr>\n",
       "  <th>num_answered_questions_squared</th> <td>    0.0055</td> <td>    0.002</td> <td>    2.422</td> <td> 0.017</td> <td>    0.001</td> <td>    0.010</td>\n",
       "</tr>\n",
       "<tr>\n",
       "  <th>avg_cust_review_squared</th>        <td>    5.4983</td> <td>    2.066</td> <td>    2.661</td> <td> 0.009</td> <td>    1.414</td> <td>    9.583</td>\n",
       "</tr>\n",
       "</table>\n",
       "<table class=\"simpletable\">\n",
       "<tr>\n",
       "  <th>Omnibus:</th>       <td>98.042</td> <th>  Durbin-Watson:     </th> <td>   1.904</td> \n",
       "</tr>\n",
       "<tr>\n",
       "  <th>Prob(Omnibus):</th> <td> 0.000</td> <th>  Jarque-Bera (JB):  </th> <td> 575.144</td> \n",
       "</tr>\n",
       "<tr>\n",
       "  <th>Skew:</th>          <td> 2.322</td> <th>  Prob(JB):          </th> <td>1.29e-125</td>\n",
       "</tr>\n",
       "<tr>\n",
       "  <th>Kurtosis:</th>      <td>11.180</td> <th>  Cond. No.          </th> <td>1.98e+24</td> \n",
       "</tr>\n",
       "</table>"
      ],
      "text/plain": [
       "<class 'statsmodels.iolib.summary.Summary'>\n",
       "\"\"\"\n",
       "                            OLS Regression Results                            \n",
       "==============================================================================\n",
       "Dep. Variable:             list_price   R-squared:                       0.359\n",
       "Model:                            OLS   Adj. R-squared:                  0.301\n",
       "Method:                 Least Squares   F-statistic:                     6.125\n",
       "Date:                Fri, 27 Apr 2018   Prob (F-statistic):           5.25e-09\n",
       "Time:                        07:23:30   Log-Likelihood:                -783.28\n",
       "No. Observations:                 156   AIC:                             1595.\n",
       "Df Residuals:                     142   BIC:                             1637.\n",
       "Df Model:                          13                                         \n",
       "Covariance Type:            nonrobust                                         \n",
       "==================================================================================================\n",
       "                                     coef    std err          t      P>|t|      [0.025      0.975]\n",
       "--------------------------------------------------------------------------------------------------\n",
       "Intercept                         44.9490     14.464      3.108      0.002      16.357      73.541\n",
       "num_cust_reviews                  -0.0140      0.008     -1.766      0.080      -0.030       0.002\n",
       "avg_cust_review                  -22.8778      9.920     -2.306      0.023     -42.488      -3.268\n",
       "num_answered_questions            -0.2917      0.378     -0.772      0.441      -1.039       0.455\n",
       "product_discounts                -16.8224     84.462     -0.199      0.842    -183.789     150.144\n",
       "time_on_market                     0.0317      0.006      5.084      0.000       0.019       0.044\n",
       "seller_rank_boolean               -5.6607      6.888     -0.822      0.413     -19.277       7.955\n",
       "expedited_shipping_boolean         6.4232     19.093      0.336      0.737     -31.319      44.166\n",
       "clothing_seller_rank            1.144e-05   1.03e-05      1.114      0.267   -8.86e-06    3.17e-05\n",
       "seller_rank_binary_list           -5.6607      6.888     -0.822      0.413     -19.277       7.955\n",
       "num_bullets_description           -2.6408      2.740     -0.964      0.337      -8.058       2.777\n",
       "product_specs_image_boolean      -17.0986      7.841     -2.181      0.031     -32.598      -1.599\n",
       "num_specs_bullets                  0.1819      0.511      0.356      0.722      -0.829       1.193\n",
       "num_answered_questions_squared     0.0055      0.002      2.422      0.017       0.001       0.010\n",
       "avg_cust_review_squared            5.4983      2.066      2.661      0.009       1.414       9.583\n",
       "==============================================================================\n",
       "Omnibus:                       98.042   Durbin-Watson:                   1.904\n",
       "Prob(Omnibus):                  0.000   Jarque-Bera (JB):              575.144\n",
       "Skew:                           2.322   Prob(JB):                    1.29e-125\n",
       "Kurtosis:                      11.180   Cond. No.                     1.98e+24\n",
       "==============================================================================\n",
       "\n",
       "Warnings:\n",
       "[1] Standard Errors assume that the covariance matrix of the errors is correctly specified.\n",
       "[2] The smallest eigenvalue is 5.49e-36. This might indicate that there are\n",
       "strong multicollinearity problems or that the design matrix is singular.\n",
       "\"\"\""
      ]
     },
     "execution_count": 130,
     "metadata": {},
     "output_type": "execute_result"
    }
   ],
   "source": [
    "# Tried removing the other sellers boolean, and that increased the Adj. R-Squared \n",
    "# Going to try to remove product discounts, since the p-value is pretty high\n",
    "y_patsy, X_patsy = patsy.dmatrices('list_price ~ num_cust_reviews + avg_cust_review + num_answered_questions + product_discounts + time_on_market + seller_rank_boolean + expedited_shipping_boolean + clothing_seller_rank + seller_rank_binary_list + num_bullets_description + product_specs_image_boolean + num_specs_bullets + num_answered_questions_squared + avg_cust_review_squared + num_answered_questions_squared', data=all_product_listings_for_modeling_list_price, return_type=\"dataframe\")\n",
    "# Create your model\n",
    "added_degree_2_OLS_removed_other_sellers = sm.OLS(y_patsy, X_patsy)\n",
    "# Fit your model to your training set\n",
    "fit_degree2 = added_degree_2_OLS_removed_other_sellers.fit()\n",
    "# Print summary statistics of the model's performance\n",
    "fit_degree2.summary()"
   ]
  },
  {
   "cell_type": "code",
   "execution_count": 131,
   "metadata": {
    "hidden": true
   },
   "outputs": [
    {
     "data": {
      "text/html": [
       "<table class=\"simpletable\">\n",
       "<caption>OLS Regression Results</caption>\n",
       "<tr>\n",
       "  <th>Dep. Variable:</th>       <td>list_price</td>    <th>  R-squared:         </th> <td>   0.359</td>\n",
       "</tr>\n",
       "<tr>\n",
       "  <th>Model:</th>                   <td>OLS</td>       <th>  Adj. R-squared:    </th> <td>   0.305</td>\n",
       "</tr>\n",
       "<tr>\n",
       "  <th>Method:</th>             <td>Least Squares</td>  <th>  F-statistic:       </th> <td>   6.676</td>\n",
       "</tr>\n",
       "<tr>\n",
       "  <th>Date:</th>             <td>Fri, 27 Apr 2018</td> <th>  Prob (F-statistic):</th> <td>1.99e-09</td>\n",
       "</tr>\n",
       "<tr>\n",
       "  <th>Time:</th>                 <td>07:23:30</td>     <th>  Log-Likelihood:    </th> <td> -783.30</td>\n",
       "</tr>\n",
       "<tr>\n",
       "  <th>No. Observations:</th>      <td>   156</td>      <th>  AIC:               </th> <td>   1593.</td>\n",
       "</tr>\n",
       "<tr>\n",
       "  <th>Df Residuals:</th>          <td>   143</td>      <th>  BIC:               </th> <td>   1632.</td>\n",
       "</tr>\n",
       "<tr>\n",
       "  <th>Df Model:</th>              <td>    12</td>      <th>                     </th>     <td> </td>   \n",
       "</tr>\n",
       "<tr>\n",
       "  <th>Covariance Type:</th>      <td>nonrobust</td>    <th>                     </th>     <td> </td>   \n",
       "</tr>\n",
       "</table>\n",
       "<table class=\"simpletable\">\n",
       "<tr>\n",
       "                 <td></td>                   <th>coef</th>     <th>std err</th>      <th>t</th>      <th>P>|t|</th>  <th>[0.025</th>    <th>0.975]</th>  \n",
       "</tr>\n",
       "<tr>\n",
       "  <th>Intercept</th>                      <td>   44.7819</td> <td>   14.391</td> <td>    3.112</td> <td> 0.002</td> <td>   16.336</td> <td>   73.228</td>\n",
       "</tr>\n",
       "<tr>\n",
       "  <th>num_cust_reviews</th>               <td>   -0.0141</td> <td>    0.008</td> <td>   -1.807</td> <td> 0.073</td> <td>   -0.030</td> <td>    0.001</td>\n",
       "</tr>\n",
       "<tr>\n",
       "  <th>avg_cust_review</th>                <td>  -22.9670</td> <td>    9.877</td> <td>   -2.325</td> <td> 0.021</td> <td>  -42.490</td> <td>   -3.444</td>\n",
       "</tr>\n",
       "<tr>\n",
       "  <th>num_answered_questions</th>         <td>   -0.2813</td> <td>    0.373</td> <td>   -0.754</td> <td> 0.452</td> <td>   -1.018</td> <td>    0.456</td>\n",
       "</tr>\n",
       "<tr>\n",
       "  <th>time_on_market</th>                 <td>    0.0319</td> <td>    0.006</td> <td>    5.212</td> <td> 0.000</td> <td>    0.020</td> <td>    0.044</td>\n",
       "</tr>\n",
       "<tr>\n",
       "  <th>seller_rank_boolean</th>            <td>   -5.7005</td> <td>    6.862</td> <td>   -0.831</td> <td> 0.407</td> <td>  -19.264</td> <td>    7.863</td>\n",
       "</tr>\n",
       "<tr>\n",
       "  <th>expedited_shipping_boolean</th>     <td>    4.0383</td> <td>   14.821</td> <td>    0.272</td> <td> 0.786</td> <td>  -25.258</td> <td>   33.334</td>\n",
       "</tr>\n",
       "<tr>\n",
       "  <th>clothing_seller_rank</th>           <td> 1.144e-05</td> <td> 1.02e-05</td> <td>    1.118</td> <td> 0.265</td> <td>-8.78e-06</td> <td> 3.17e-05</td>\n",
       "</tr>\n",
       "<tr>\n",
       "  <th>seller_rank_binary_list</th>        <td>   -5.7005</td> <td>    6.862</td> <td>   -0.831</td> <td> 0.407</td> <td>  -19.264</td> <td>    7.863</td>\n",
       "</tr>\n",
       "<tr>\n",
       "  <th>num_bullets_description</th>        <td>   -2.5965</td> <td>    2.722</td> <td>   -0.954</td> <td> 0.342</td> <td>   -7.977</td> <td>    2.784</td>\n",
       "</tr>\n",
       "<tr>\n",
       "  <th>product_specs_image_boolean</th>    <td>  -17.1547</td> <td>    7.809</td> <td>   -2.197</td> <td> 0.030</td> <td>  -32.591</td> <td>   -1.718</td>\n",
       "</tr>\n",
       "<tr>\n",
       "  <th>num_specs_bullets</th>              <td>    0.1705</td> <td>    0.506</td> <td>    0.337</td> <td> 0.737</td> <td>   -0.830</td> <td>    1.171</td>\n",
       "</tr>\n",
       "<tr>\n",
       "  <th>num_answered_questions_squared</th> <td>    0.0055</td> <td>    0.002</td> <td>    2.423</td> <td> 0.017</td> <td>    0.001</td> <td>    0.010</td>\n",
       "</tr>\n",
       "<tr>\n",
       "  <th>avg_cust_review_squared</th>        <td>    5.5131</td> <td>    2.058</td> <td>    2.679</td> <td> 0.008</td> <td>    1.445</td> <td>    9.581</td>\n",
       "</tr>\n",
       "</table>\n",
       "<table class=\"simpletable\">\n",
       "<tr>\n",
       "  <th>Omnibus:</th>       <td>97.817</td> <th>  Durbin-Watson:     </th> <td>   1.909</td> \n",
       "</tr>\n",
       "<tr>\n",
       "  <th>Prob(Omnibus):</th> <td> 0.000</td> <th>  Jarque-Bera (JB):  </th> <td> 570.879</td> \n",
       "</tr>\n",
       "<tr>\n",
       "  <th>Skew:</th>          <td> 2.318</td> <th>  Prob(JB):          </th> <td>1.08e-124</td>\n",
       "</tr>\n",
       "<tr>\n",
       "  <th>Kurtosis:</th>      <td>11.145</td> <th>  Cond. No.          </th> <td>6.03e+21</td> \n",
       "</tr>\n",
       "</table>"
      ],
      "text/plain": [
       "<class 'statsmodels.iolib.summary.Summary'>\n",
       "\"\"\"\n",
       "                            OLS Regression Results                            \n",
       "==============================================================================\n",
       "Dep. Variable:             list_price   R-squared:                       0.359\n",
       "Model:                            OLS   Adj. R-squared:                  0.305\n",
       "Method:                 Least Squares   F-statistic:                     6.676\n",
       "Date:                Fri, 27 Apr 2018   Prob (F-statistic):           1.99e-09\n",
       "Time:                        07:23:30   Log-Likelihood:                -783.30\n",
       "No. Observations:                 156   AIC:                             1593.\n",
       "Df Residuals:                     143   BIC:                             1632.\n",
       "Df Model:                          12                                         \n",
       "Covariance Type:            nonrobust                                         \n",
       "==================================================================================================\n",
       "                                     coef    std err          t      P>|t|      [0.025      0.975]\n",
       "--------------------------------------------------------------------------------------------------\n",
       "Intercept                         44.7819     14.391      3.112      0.002      16.336      73.228\n",
       "num_cust_reviews                  -0.0141      0.008     -1.807      0.073      -0.030       0.001\n",
       "avg_cust_review                  -22.9670      9.877     -2.325      0.021     -42.490      -3.444\n",
       "num_answered_questions            -0.2813      0.373     -0.754      0.452      -1.018       0.456\n",
       "time_on_market                     0.0319      0.006      5.212      0.000       0.020       0.044\n",
       "seller_rank_boolean               -5.7005      6.862     -0.831      0.407     -19.264       7.863\n",
       "expedited_shipping_boolean         4.0383     14.821      0.272      0.786     -25.258      33.334\n",
       "clothing_seller_rank            1.144e-05   1.02e-05      1.118      0.265   -8.78e-06    3.17e-05\n",
       "seller_rank_binary_list           -5.7005      6.862     -0.831      0.407     -19.264       7.863\n",
       "num_bullets_description           -2.5965      2.722     -0.954      0.342      -7.977       2.784\n",
       "product_specs_image_boolean      -17.1547      7.809     -2.197      0.030     -32.591      -1.718\n",
       "num_specs_bullets                  0.1705      0.506      0.337      0.737      -0.830       1.171\n",
       "num_answered_questions_squared     0.0055      0.002      2.423      0.017       0.001       0.010\n",
       "avg_cust_review_squared            5.5131      2.058      2.679      0.008       1.445       9.581\n",
       "==============================================================================\n",
       "Omnibus:                       97.817   Durbin-Watson:                   1.909\n",
       "Prob(Omnibus):                  0.000   Jarque-Bera (JB):              570.879\n",
       "Skew:                           2.318   Prob(JB):                    1.08e-124\n",
       "Kurtosis:                      11.145   Cond. No.                     6.03e+21\n",
       "==============================================================================\n",
       "\n",
       "Warnings:\n",
       "[1] Standard Errors assume that the covariance matrix of the errors is correctly specified.\n",
       "[2] The smallest eigenvalue is 5.92e-31. This might indicate that there are\n",
       "strong multicollinearity problems or that the design matrix is singular.\n",
       "\"\"\""
      ]
     },
     "execution_count": 131,
     "metadata": {},
     "output_type": "execute_result"
    }
   ],
   "source": [
    "# Tried removing the other sellers boolean already, now also removing product discounts\n",
    "# My adjusted r-squared increased slightly \n",
    "# Going to try and remove expedited_shipping_boolean as well, since it also has a high p-value \n",
    "y_patsy, X_patsy = patsy.dmatrices('list_price ~ num_cust_reviews + avg_cust_review + num_answered_questions + time_on_market + seller_rank_boolean + expedited_shipping_boolean + clothing_seller_rank + seller_rank_binary_list + num_bullets_description + product_specs_image_boolean + num_specs_bullets + num_answered_questions_squared + avg_cust_review_squared + num_answered_questions_squared', data=all_product_listings_for_modeling_list_price, return_type=\"dataframe\")\n",
    "# Create your model\n",
    "added_degree_2_OLS_removed_other_sellers_and_product_discounts = sm.OLS(y_patsy, X_patsy)\n",
    "# Fit your model to your training set\n",
    "fit_degree2 = added_degree_2_OLS_removed_other_sellers_and_product_discounts.fit()\n",
    "# Print summary statistics of the model's performance\n",
    "fit_degree2.summary()"
   ]
  },
  {
   "cell_type": "markdown",
   "metadata": {},
   "source": [
    "# Highest adj. R-squared achieved here"
   ]
  },
  {
   "cell_type": "code",
   "execution_count": 132,
   "metadata": {},
   "outputs": [
    {
     "data": {
      "text/html": [
       "<table class=\"simpletable\">\n",
       "<caption>OLS Regression Results</caption>\n",
       "<tr>\n",
       "  <th>Dep. Variable:</th>       <td>list_price</td>    <th>  R-squared:         </th> <td>   0.359</td>\n",
       "</tr>\n",
       "<tr>\n",
       "  <th>Model:</th>                   <td>OLS</td>       <th>  Adj. R-squared:    </th> <td>   0.310</td>\n",
       "</tr>\n",
       "<tr>\n",
       "  <th>Method:</th>             <td>Least Squares</td>  <th>  F-statistic:       </th> <td>   7.324</td>\n",
       "</tr>\n",
       "<tr>\n",
       "  <th>Date:</th>             <td>Fri, 27 Apr 2018</td> <th>  Prob (F-statistic):</th> <td>7.31e-10</td>\n",
       "</tr>\n",
       "<tr>\n",
       "  <th>Time:</th>                 <td>07:23:30</td>     <th>  Log-Likelihood:    </th> <td> -783.34</td>\n",
       "</tr>\n",
       "<tr>\n",
       "  <th>No. Observations:</th>      <td>   156</td>      <th>  AIC:               </th> <td>   1591.</td>\n",
       "</tr>\n",
       "<tr>\n",
       "  <th>Df Residuals:</th>          <td>   144</td>      <th>  BIC:               </th> <td>   1627.</td>\n",
       "</tr>\n",
       "<tr>\n",
       "  <th>Df Model:</th>              <td>    11</td>      <th>                     </th>     <td> </td>   \n",
       "</tr>\n",
       "<tr>\n",
       "  <th>Covariance Type:</th>      <td>nonrobust</td>    <th>                     </th>     <td> </td>   \n",
       "</tr>\n",
       "</table>\n",
       "<table class=\"simpletable\">\n",
       "<tr>\n",
       "                 <td></td>                   <th>coef</th>     <th>std err</th>      <th>t</th>      <th>P>|t|</th>  <th>[0.025</th>    <th>0.975]</th>  \n",
       "</tr>\n",
       "<tr>\n",
       "  <th>Intercept</th>                      <td>   45.2190</td> <td>   14.255</td> <td>    3.172</td> <td> 0.002</td> <td>   17.043</td> <td>   73.395</td>\n",
       "</tr>\n",
       "<tr>\n",
       "  <th>num_cust_reviews</th>               <td>   -0.0141</td> <td>    0.008</td> <td>   -1.805</td> <td> 0.073</td> <td>   -0.030</td> <td>    0.001</td>\n",
       "</tr>\n",
       "<tr>\n",
       "  <th>avg_cust_review</th>                <td>  -23.0523</td> <td>    9.840</td> <td>   -2.343</td> <td> 0.021</td> <td>  -42.501</td> <td>   -3.603</td>\n",
       "</tr>\n",
       "<tr>\n",
       "  <th>num_answered_questions</th>         <td>   -0.2707</td> <td>    0.370</td> <td>   -0.732</td> <td> 0.465</td> <td>   -1.001</td> <td>    0.460</td>\n",
       "</tr>\n",
       "<tr>\n",
       "  <th>time_on_market</th>                 <td>    0.0319</td> <td>    0.006</td> <td>    5.234</td> <td> 0.000</td> <td>    0.020</td> <td>    0.044</td>\n",
       "</tr>\n",
       "<tr>\n",
       "  <th>seller_rank_boolean</th>            <td>   -5.8467</td> <td>    6.819</td> <td>   -0.857</td> <td> 0.393</td> <td>  -19.325</td> <td>    7.631</td>\n",
       "</tr>\n",
       "<tr>\n",
       "  <th>clothing_seller_rank</th>           <td> 1.145e-05</td> <td> 1.02e-05</td> <td>    1.122</td> <td> 0.264</td> <td>-8.71e-06</td> <td> 3.16e-05</td>\n",
       "</tr>\n",
       "<tr>\n",
       "  <th>seller_rank_binary_list</th>        <td>   -5.8467</td> <td>    6.819</td> <td>   -0.857</td> <td> 0.393</td> <td>  -19.325</td> <td>    7.631</td>\n",
       "</tr>\n",
       "<tr>\n",
       "  <th>num_bullets_description</th>        <td>   -2.6715</td> <td>    2.700</td> <td>   -0.990</td> <td> 0.324</td> <td>   -8.007</td> <td>    2.664</td>\n",
       "</tr>\n",
       "<tr>\n",
       "  <th>product_specs_image_boolean</th>    <td>  -16.6608</td> <td>    7.572</td> <td>   -2.200</td> <td> 0.029</td> <td>  -31.626</td> <td>   -1.695</td>\n",
       "</tr>\n",
       "<tr>\n",
       "  <th>num_specs_bullets</th>              <td>    0.2076</td> <td>    0.486</td> <td>    0.427</td> <td> 0.670</td> <td>   -0.753</td> <td>    1.168</td>\n",
       "</tr>\n",
       "<tr>\n",
       "  <th>num_answered_questions_squared</th> <td>    0.0054</td> <td>    0.002</td> <td>    2.416</td> <td> 0.017</td> <td>    0.001</td> <td>    0.010</td>\n",
       "</tr>\n",
       "<tr>\n",
       "  <th>avg_cust_review_squared</th>        <td>    5.5347</td> <td>    2.050</td> <td>    2.700</td> <td> 0.008</td> <td>    1.483</td> <td>    9.586</td>\n",
       "</tr>\n",
       "</table>\n",
       "<table class=\"simpletable\">\n",
       "<tr>\n",
       "  <th>Omnibus:</th>       <td>97.353</td> <th>  Durbin-Watson:     </th> <td>   1.905</td> \n",
       "</tr>\n",
       "<tr>\n",
       "  <th>Prob(Omnibus):</th> <td> 0.000</td> <th>  Jarque-Bera (JB):  </th> <td> 564.895</td> \n",
       "</tr>\n",
       "<tr>\n",
       "  <th>Skew:</th>          <td> 2.306</td> <th>  Prob(JB):          </th> <td>2.16e-123</td>\n",
       "</tr>\n",
       "<tr>\n",
       "  <th>Kurtosis:</th>      <td>11.102</td> <th>  Cond. No.          </th> <td>4.63e+21</td> \n",
       "</tr>\n",
       "</table>"
      ],
      "text/plain": [
       "<class 'statsmodels.iolib.summary.Summary'>\n",
       "\"\"\"\n",
       "                            OLS Regression Results                            \n",
       "==============================================================================\n",
       "Dep. Variable:             list_price   R-squared:                       0.359\n",
       "Model:                            OLS   Adj. R-squared:                  0.310\n",
       "Method:                 Least Squares   F-statistic:                     7.324\n",
       "Date:                Fri, 27 Apr 2018   Prob (F-statistic):           7.31e-10\n",
       "Time:                        07:23:30   Log-Likelihood:                -783.34\n",
       "No. Observations:                 156   AIC:                             1591.\n",
       "Df Residuals:                     144   BIC:                             1627.\n",
       "Df Model:                          11                                         \n",
       "Covariance Type:            nonrobust                                         \n",
       "==================================================================================================\n",
       "                                     coef    std err          t      P>|t|      [0.025      0.975]\n",
       "--------------------------------------------------------------------------------------------------\n",
       "Intercept                         45.2190     14.255      3.172      0.002      17.043      73.395\n",
       "num_cust_reviews                  -0.0141      0.008     -1.805      0.073      -0.030       0.001\n",
       "avg_cust_review                  -23.0523      9.840     -2.343      0.021     -42.501      -3.603\n",
       "num_answered_questions            -0.2707      0.370     -0.732      0.465      -1.001       0.460\n",
       "time_on_market                     0.0319      0.006      5.234      0.000       0.020       0.044\n",
       "seller_rank_boolean               -5.8467      6.819     -0.857      0.393     -19.325       7.631\n",
       "clothing_seller_rank            1.145e-05   1.02e-05      1.122      0.264   -8.71e-06    3.16e-05\n",
       "seller_rank_binary_list           -5.8467      6.819     -0.857      0.393     -19.325       7.631\n",
       "num_bullets_description           -2.6715      2.700     -0.990      0.324      -8.007       2.664\n",
       "product_specs_image_boolean      -16.6608      7.572     -2.200      0.029     -31.626      -1.695\n",
       "num_specs_bullets                  0.2076      0.486      0.427      0.670      -0.753       1.168\n",
       "num_answered_questions_squared     0.0054      0.002      2.416      0.017       0.001       0.010\n",
       "avg_cust_review_squared            5.5347      2.050      2.700      0.008       1.483       9.586\n",
       "==============================================================================\n",
       "Omnibus:                       97.353   Durbin-Watson:                   1.905\n",
       "Prob(Omnibus):                  0.000   Jarque-Bera (JB):              564.895\n",
       "Skew:                           2.306   Prob(JB):                    2.16e-123\n",
       "Kurtosis:                      11.102   Cond. No.                     4.63e+21\n",
       "==============================================================================\n",
       "\n",
       "Warnings:\n",
       "[1] Standard Errors assume that the covariance matrix of the errors is correctly specified.\n",
       "[2] The smallest eigenvalue is  1e-30. This might indicate that there are\n",
       "strong multicollinearity problems or that the design matrix is singular.\n",
       "\"\"\""
      ]
     },
     "execution_count": 132,
     "metadata": {},
     "output_type": "execute_result"
    }
   ],
   "source": [
    "# Removed expedited_shipping_boolean\n",
    "# The adjusted R-squared went up. I think it's a good time to take a look at the polynomials\n",
    "\n",
    "y_patsy, X_patsy = patsy.dmatrices('list_price ~ num_cust_reviews + avg_cust_review + num_answered_questions + time_on_market + seller_rank_boolean + clothing_seller_rank + seller_rank_binary_list + num_bullets_description + product_specs_image_boolean + num_specs_bullets + num_answered_questions_squared + avg_cust_review_squared + num_answered_questions_squared', data=all_product_listings_for_modeling_list_price, return_type=\"dataframe\")\n",
    "# Create your model\n",
    "added_degree_2_OLS_removed_other_sellers_and_product_discounts_and_expedited_shipping = sm.OLS(y_patsy, X_patsy)\n",
    "# Fit your model to your training set\n",
    "fit_degree2 = added_degree_2_OLS_removed_other_sellers_and_product_discounts_and_expedited_shipping.fit()\n",
    "# Print summary statistics of the model's performance\n",
    "fit_degree2.summary()"
   ]
  },
  {
   "cell_type": "markdown",
   "metadata": {},
   "source": [
    "# Re-conduct test/train split (on same seed) with the reduced list of features"
   ]
  },
  {
   "cell_type": "code",
   "execution_count": 133,
   "metadata": {},
   "outputs": [
    {
     "data": {
      "text/plain": [
       "Index(['num_cust_reviews', 'list_price', 'avg_cust_review',\n",
       "       'num_answered_questions', 'product_discounts', 'time_on_market',\n",
       "       'other_sellers_boolean', 'expedited_shipping_boolean',\n",
       "       'num_bullets_description', 'product_specs_image_boolean',\n",
       "       'num_specs_bullets', 'seller_rank_boolean', 'clothing_seller_rank',\n",
       "       'seller_rank_binary_list', 'num_cust_review_squared',\n",
       "       'avg_cust_review_squared', 'num_answered_questions_squared'],\n",
       "      dtype='object')"
      ]
     },
     "execution_count": 133,
     "metadata": {},
     "output_type": "execute_result"
    }
   ],
   "source": [
    "all_product_listings_for_modeling_list_price.columns"
   ]
  },
  {
   "cell_type": "code",
   "execution_count": 134,
   "metadata": {},
   "outputs": [],
   "source": [
    "final_list_features = ['num_cust_reviews', 'avg_cust_review', 'num_answered_questions', 'time_on_market', 'seller_rank_boolean', 'clothing_seller_rank', 'seller_rank_binary_list', 'num_bullets_description', 'product_specs_image_boolean', 'num_specs_bullets', 'num_answered_questions_squared', 'avg_cust_review_squared', 'num_answered_questions_squared']"
   ]
  },
  {
   "cell_type": "code",
   "execution_count": 135,
   "metadata": {},
   "outputs": [],
   "source": [
    "original_list_features = list(all_product_listings_for_modeling_list_price.columns)"
   ]
  },
  {
   "cell_type": "code",
   "execution_count": 136,
   "metadata": {},
   "outputs": [
    {
     "data": {
      "text/plain": [
       "['other_sellers_boolean',\n",
       " 'product_discounts',\n",
       " 'list_price',\n",
       " 'expedited_shipping_boolean',\n",
       " 'num_cust_review_squared']"
      ]
     },
     "execution_count": 136,
     "metadata": {},
     "output_type": "execute_result"
    }
   ],
   "source": [
    "removed_features = list(set(original_list_features) - set(final_list_features))\n",
    "removed_features"
   ]
  },
  {
   "cell_type": "code",
   "execution_count": 137,
   "metadata": {},
   "outputs": [
    {
     "data": {
      "text/plain": [
       "Index(['num_cust_reviews', 'list_price', 'avg_cust_review',\n",
       "       'num_answered_questions', 'product_discounts', 'time_on_market',\n",
       "       'other_sellers_boolean', 'expedited_shipping_boolean',\n",
       "       'num_bullets_description', 'product_specs_image_boolean',\n",
       "       'num_specs_bullets', 'seller_rank_boolean', 'clothing_seller_rank',\n",
       "       'seller_rank_binary_list', 'num_cust_review_squared',\n",
       "       'avg_cust_review_squared', 'num_answered_questions_squared'],\n",
       "      dtype='object')"
      ]
     },
     "execution_count": 137,
     "metadata": {},
     "output_type": "execute_result"
    }
   ],
   "source": [
    "all_product_listings_for_modeling_list_price.columns"
   ]
  },
  {
   "cell_type": "code",
   "execution_count": 138,
   "metadata": {},
   "outputs": [
    {
     "data": {
      "text/html": [
       "<div>\n",
       "<style scoped>\n",
       "    .dataframe tbody tr th:only-of-type {\n",
       "        vertical-align: middle;\n",
       "    }\n",
       "\n",
       "    .dataframe tbody tr th {\n",
       "        vertical-align: top;\n",
       "    }\n",
       "\n",
       "    .dataframe thead th {\n",
       "        text-align: right;\n",
       "    }\n",
       "</style>\n",
       "<table border=\"1\" class=\"dataframe\">\n",
       "  <thead>\n",
       "    <tr style=\"text-align: right;\">\n",
       "      <th></th>\n",
       "      <th>num_cust_reviews</th>\n",
       "      <th>list_price</th>\n",
       "      <th>avg_cust_review</th>\n",
       "      <th>num_answered_questions</th>\n",
       "      <th>time_on_market</th>\n",
       "      <th>num_bullets_description</th>\n",
       "      <th>product_specs_image_boolean</th>\n",
       "      <th>num_specs_bullets</th>\n",
       "      <th>seller_rank_boolean</th>\n",
       "      <th>clothing_seller_rank</th>\n",
       "      <th>seller_rank_binary_list</th>\n",
       "      <th>avg_cust_review_squared</th>\n",
       "      <th>num_answered_questions_squared</th>\n",
       "    </tr>\n",
       "  </thead>\n",
       "  <tbody>\n",
       "    <tr>\n",
       "      <th>0</th>\n",
       "      <td>16.0</td>\n",
       "      <td>74.99</td>\n",
       "      <td>4.5</td>\n",
       "      <td>3.0</td>\n",
       "      <td>141.0</td>\n",
       "      <td>4</td>\n",
       "      <td>0</td>\n",
       "      <td>11</td>\n",
       "      <td>1</td>\n",
       "      <td>160578</td>\n",
       "      <td>1</td>\n",
       "      <td>20.25</td>\n",
       "      <td>9.0</td>\n",
       "    </tr>\n",
       "    <tr>\n",
       "      <th>1</th>\n",
       "      <td>58.0</td>\n",
       "      <td>13.99</td>\n",
       "      <td>4.2</td>\n",
       "      <td>3.0</td>\n",
       "      <td>942.0</td>\n",
       "      <td>6</td>\n",
       "      <td>1</td>\n",
       "      <td>0</td>\n",
       "      <td>1</td>\n",
       "      <td>28641</td>\n",
       "      <td>1</td>\n",
       "      <td>17.64</td>\n",
       "      <td>9.0</td>\n",
       "    </tr>\n",
       "    <tr>\n",
       "      <th>2</th>\n",
       "      <td>810.0</td>\n",
       "      <td>9.99</td>\n",
       "      <td>4.5</td>\n",
       "      <td>20.0</td>\n",
       "      <td>70.0</td>\n",
       "      <td>4</td>\n",
       "      <td>0</td>\n",
       "      <td>1</td>\n",
       "      <td>1</td>\n",
       "      <td>9697</td>\n",
       "      <td>1</td>\n",
       "      <td>20.25</td>\n",
       "      <td>400.0</td>\n",
       "    </tr>\n",
       "    <tr>\n",
       "      <th>3</th>\n",
       "      <td>214.0</td>\n",
       "      <td>11.29</td>\n",
       "      <td>4.2</td>\n",
       "      <td>12.0</td>\n",
       "      <td>376.0</td>\n",
       "      <td>6</td>\n",
       "      <td>0</td>\n",
       "      <td>9</td>\n",
       "      <td>1</td>\n",
       "      <td>2635</td>\n",
       "      <td>1</td>\n",
       "      <td>17.64</td>\n",
       "      <td>144.0</td>\n",
       "    </tr>\n",
       "    <tr>\n",
       "      <th>4</th>\n",
       "      <td>316.0</td>\n",
       "      <td>8.39</td>\n",
       "      <td>4.3</td>\n",
       "      <td>12.0</td>\n",
       "      <td>268.0</td>\n",
       "      <td>6</td>\n",
       "      <td>1</td>\n",
       "      <td>0</td>\n",
       "      <td>1</td>\n",
       "      <td>14727</td>\n",
       "      <td>1</td>\n",
       "      <td>18.49</td>\n",
       "      <td>144.0</td>\n",
       "    </tr>\n",
       "  </tbody>\n",
       "</table>\n",
       "</div>"
      ],
      "text/plain": [
       "   num_cust_reviews  list_price  avg_cust_review  num_answered_questions  \\\n",
       "0              16.0       74.99              4.5                     3.0   \n",
       "1              58.0       13.99              4.2                     3.0   \n",
       "2             810.0        9.99              4.5                    20.0   \n",
       "3             214.0       11.29              4.2                    12.0   \n",
       "4             316.0        8.39              4.3                    12.0   \n",
       "\n",
       "   time_on_market  num_bullets_description  product_specs_image_boolean  \\\n",
       "0           141.0                        4                            0   \n",
       "1           942.0                        6                            1   \n",
       "2            70.0                        4                            0   \n",
       "3           376.0                        6                            0   \n",
       "4           268.0                        6                            1   \n",
       "\n",
       "   num_specs_bullets  seller_rank_boolean  clothing_seller_rank  \\\n",
       "0                 11                    1                160578   \n",
       "1                  0                    1                 28641   \n",
       "2                  1                    1                  9697   \n",
       "3                  9                    1                  2635   \n",
       "4                  0                    1                 14727   \n",
       "\n",
       "   seller_rank_binary_list  avg_cust_review_squared  \\\n",
       "0                        1                    20.25   \n",
       "1                        1                    17.64   \n",
       "2                        1                    20.25   \n",
       "3                        1                    17.64   \n",
       "4                        1                    18.49   \n",
       "\n",
       "   num_answered_questions_squared  \n",
       "0                             9.0  \n",
       "1                             9.0  \n",
       "2                           400.0  \n",
       "3                           144.0  \n",
       "4                           144.0  "
      ]
     },
     "execution_count": 138,
     "metadata": {},
     "output_type": "execute_result"
    }
   ],
   "source": [
    "all_product_listings_for_modeling_list_price_removed_features = all_product_listings_for_modeling_list_price.drop(columns=['product_discounts', 'expedited_shipping_boolean', 'num_cust_review_squared', 'other_sellers_boolean'])\n",
    "all_product_listings_for_modeling_list_price_removed_features.head(5)"
   ]
  },
  {
   "cell_type": "code",
   "execution_count": 139,
   "metadata": {},
   "outputs": [
    {
     "data": {
      "text/html": [
       "<div>\n",
       "<style scoped>\n",
       "    .dataframe tbody tr th:only-of-type {\n",
       "        vertical-align: middle;\n",
       "    }\n",
       "\n",
       "    .dataframe tbody tr th {\n",
       "        vertical-align: top;\n",
       "    }\n",
       "\n",
       "    .dataframe thead th {\n",
       "        text-align: right;\n",
       "    }\n",
       "</style>\n",
       "<table border=\"1\" class=\"dataframe\">\n",
       "  <thead>\n",
       "    <tr style=\"text-align: right;\">\n",
       "      <th></th>\n",
       "      <th>num_cust_reviews</th>\n",
       "      <th>avg_cust_review</th>\n",
       "      <th>num_answered_questions</th>\n",
       "      <th>time_on_market</th>\n",
       "      <th>num_bullets_description</th>\n",
       "      <th>product_specs_image_boolean</th>\n",
       "      <th>num_specs_bullets</th>\n",
       "      <th>seller_rank_boolean</th>\n",
       "      <th>clothing_seller_rank</th>\n",
       "      <th>seller_rank_binary_list</th>\n",
       "      <th>log_price</th>\n",
       "      <th>avg_cust_review_squared</th>\n",
       "      <th>num_answered_questions_squared</th>\n",
       "    </tr>\n",
       "  </thead>\n",
       "  <tbody>\n",
       "    <tr>\n",
       "      <th>0</th>\n",
       "      <td>16.0</td>\n",
       "      <td>4.5</td>\n",
       "      <td>3.0</td>\n",
       "      <td>141.0</td>\n",
       "      <td>4</td>\n",
       "      <td>0</td>\n",
       "      <td>11</td>\n",
       "      <td>1</td>\n",
       "      <td>160578</td>\n",
       "      <td>1</td>\n",
       "      <td>4.317355</td>\n",
       "      <td>20.25</td>\n",
       "      <td>9.0</td>\n",
       "    </tr>\n",
       "    <tr>\n",
       "      <th>1</th>\n",
       "      <td>58.0</td>\n",
       "      <td>4.2</td>\n",
       "      <td>3.0</td>\n",
       "      <td>942.0</td>\n",
       "      <td>6</td>\n",
       "      <td>1</td>\n",
       "      <td>0</td>\n",
       "      <td>1</td>\n",
       "      <td>28641</td>\n",
       "      <td>1</td>\n",
       "      <td>2.638343</td>\n",
       "      <td>17.64</td>\n",
       "      <td>9.0</td>\n",
       "    </tr>\n",
       "    <tr>\n",
       "      <th>2</th>\n",
       "      <td>810.0</td>\n",
       "      <td>4.5</td>\n",
       "      <td>20.0</td>\n",
       "      <td>70.0</td>\n",
       "      <td>4</td>\n",
       "      <td>0</td>\n",
       "      <td>1</td>\n",
       "      <td>1</td>\n",
       "      <td>9697</td>\n",
       "      <td>1</td>\n",
       "      <td>2.301585</td>\n",
       "      <td>20.25</td>\n",
       "      <td>400.0</td>\n",
       "    </tr>\n",
       "    <tr>\n",
       "      <th>3</th>\n",
       "      <td>214.0</td>\n",
       "      <td>4.2</td>\n",
       "      <td>12.0</td>\n",
       "      <td>376.0</td>\n",
       "      <td>6</td>\n",
       "      <td>0</td>\n",
       "      <td>9</td>\n",
       "      <td>1</td>\n",
       "      <td>2635</td>\n",
       "      <td>1</td>\n",
       "      <td>2.423917</td>\n",
       "      <td>17.64</td>\n",
       "      <td>144.0</td>\n",
       "    </tr>\n",
       "    <tr>\n",
       "      <th>4</th>\n",
       "      <td>316.0</td>\n",
       "      <td>4.3</td>\n",
       "      <td>12.0</td>\n",
       "      <td>268.0</td>\n",
       "      <td>6</td>\n",
       "      <td>1</td>\n",
       "      <td>0</td>\n",
       "      <td>1</td>\n",
       "      <td>14727</td>\n",
       "      <td>1</td>\n",
       "      <td>2.127041</td>\n",
       "      <td>18.49</td>\n",
       "      <td>144.0</td>\n",
       "    </tr>\n",
       "  </tbody>\n",
       "</table>\n",
       "</div>"
      ],
      "text/plain": [
       "   num_cust_reviews  avg_cust_review  num_answered_questions  time_on_market  \\\n",
       "0              16.0              4.5                     3.0           141.0   \n",
       "1              58.0              4.2                     3.0           942.0   \n",
       "2             810.0              4.5                    20.0            70.0   \n",
       "3             214.0              4.2                    12.0           376.0   \n",
       "4             316.0              4.3                    12.0           268.0   \n",
       "\n",
       "   num_bullets_description  product_specs_image_boolean  num_specs_bullets  \\\n",
       "0                        4                            0                 11   \n",
       "1                        6                            1                  0   \n",
       "2                        4                            0                  1   \n",
       "3                        6                            0                  9   \n",
       "4                        6                            1                  0   \n",
       "\n",
       "   seller_rank_boolean  clothing_seller_rank  seller_rank_binary_list  \\\n",
       "0                    1                160578                        1   \n",
       "1                    1                 28641                        1   \n",
       "2                    1                  9697                        1   \n",
       "3                    1                  2635                        1   \n",
       "4                    1                 14727                        1   \n",
       "\n",
       "   log_price  avg_cust_review_squared  num_answered_questions_squared  \n",
       "0   4.317355                    20.25                             9.0  \n",
       "1   2.638343                    17.64                             9.0  \n",
       "2   2.301585                    20.25                           400.0  \n",
       "3   2.423917                    17.64                           144.0  \n",
       "4   2.127041                    18.49                           144.0  "
      ]
     },
     "execution_count": 139,
     "metadata": {},
     "output_type": "execute_result"
    }
   ],
   "source": [
    "all_product_listings_for_modeling_log_price_removed_features = all_product_listings_for_modeling_log_price.drop(columns=['product_discounts', 'expedited_shipping_boolean', 'num_cust_review_squared', 'other_sellers_boolean'])\n",
    "all_product_listings_for_modeling_log_price_removed_features.head(5)"
   ]
  },
  {
   "cell_type": "code",
   "execution_count": 140,
   "metadata": {},
   "outputs": [],
   "source": [
    "X_new = all_product_listings_for_modeling_list_price_removed_features[[x for x in all_product_listings_for_modeling_list_price_removed_features.columns if x != 'list_price']]\n",
    "y_new = all_product_listings_for_modeling_list_price_removed_features['list_price']\n",
    "X_train_new, X_val_new, y_train_new, y_val_new = train_test_split(X_new, y_new, test_size=0.3, random_state=30)"
   ]
  },
  {
   "cell_type": "code",
   "execution_count": 141,
   "metadata": {},
   "outputs": [],
   "source": [
    "# Scale the train and validation data\n",
    "ssX = StandardScaler()\n",
    " \n",
    "# Fit_transform figures fit(out mean and std). \n",
    "# Then transforms (using the value from the fit x-mu for each datapoint)\n",
    "\n",
    "# Fit and transform the training data\n",
    "X_train_new = ssX.fit_transform(X_train_new)\n",
    "\n",
    "# Validate and transform the validation data\n",
    "X_val_new = ssX.transform(X_val_new)"
   ]
  },
  {
   "cell_type": "code",
   "execution_count": 142,
   "metadata": {},
   "outputs": [],
   "source": [
    "X_new_log = all_product_listings_for_modeling_log_price_removed_features[[x for x in all_product_listings_for_modeling_log_price_removed_features.columns if x != 'log_price']]\n",
    "y_new_log = all_product_listings_for_modeling_log_price_removed_features['log_price']\n",
    "X_train_new_log, X_val_new_log, y_train_new_log, y_val_new_log = train_test_split(X_new_log, y_new_log, test_size=0.3, random_state=30)"
   ]
  },
  {
   "cell_type": "code",
   "execution_count": 143,
   "metadata": {},
   "outputs": [],
   "source": [
    "# Scale the train and validation data\n",
    "ssX = StandardScaler()\n",
    " \n",
    "# Fit_transform figures fit(out mean and std). \n",
    "# Then transforms (using the value from the fit x-mu for each datapoint)\n",
    "\n",
    "# Fit and transform the training data\n",
    "X_train_new_log = ssX.fit_transform(X_train_new_log)\n",
    "\n",
    "# Validate and transform the validation data\n",
    "X_val_new_log = ssX.transform(X_val_new_log)"
   ]
  },
  {
   "cell_type": "markdown",
   "metadata": {},
   "source": [
    "# Generate second degree polynomial and interaction features"
   ]
  },
  {
   "cell_type": "code",
   "execution_count": 144,
   "metadata": {},
   "outputs": [],
   "source": [
    "poly_degree2_fit = PolynomialFeatures(2).fit(X_train_new)"
   ]
  },
  {
   "cell_type": "code",
   "execution_count": 145,
   "metadata": {},
   "outputs": [],
   "source": [
    "X_train_poly_degree2 = poly_degree2_fit.transform(X_train_new)"
   ]
  },
  {
   "cell_type": "code",
   "execution_count": 146,
   "metadata": {},
   "outputs": [],
   "source": [
    "poly_degree2_fit_log = PolynomialFeatures(2).fit(X_train_new_log)"
   ]
  },
  {
   "cell_type": "code",
   "execution_count": 147,
   "metadata": {},
   "outputs": [],
   "source": [
    "X_train_poly_degree2_log = poly_degree2_fit_log.transform(X_train_new_log)"
   ]
  },
  {
   "cell_type": "markdown",
   "metadata": {},
   "source": [
    "# Plot the data with the additional features from the second degree poly"
   ]
  },
  {
   "cell_type": "code",
   "execution_count": 148,
   "metadata": {},
   "outputs": [],
   "source": [
    "linear_model_poly_degree2 = LinearRegression()"
   ]
  },
  {
   "cell_type": "code",
   "execution_count": 149,
   "metadata": {},
   "outputs": [],
   "source": [
    "linear_model_poly_degree2_fit = linear_model_poly_degree2.fit(X_train_poly_degree2, y_train_new)"
   ]
  },
  {
   "cell_type": "code",
   "execution_count": 150,
   "metadata": {},
   "outputs": [],
   "source": [
    "linear_poly_degree2_predictions_train = linear_model_poly_degree2.predict(X_train_poly_degree2)"
   ]
  },
  {
   "cell_type": "code",
   "execution_count": 151,
   "metadata": {},
   "outputs": [
    {
     "data": {
      "text/plain": [
       "Text(0.5,1,'Polynomial Degree 2 Model on Training Data for Price')"
      ]
     },
     "execution_count": 151,
     "metadata": {},
     "output_type": "execute_result"
    },
    {
     "data": {
      "image/png": "[encoded data removed]",
      "text/plain": [
       "<Figure size 432x288 with 1 Axes>"
      ]
     },
     "metadata": {},
     "output_type": "display_data"
    }
   ],
   "source": [
    "# This polynomial degree of 2 fits better than the original linear regression degree of 1\n",
    "# It's still not over-fitting, so let's try another degree \n",
    "plt.scatter(y_train_new, linear_poly_degree2_predictions_train, alpha=0.5)\n",
    "plt.plot([0,350],[0,350],'r--')\n",
    "plt.xlabel('True Values')\n",
    "plt.ylabel('Predictions')\n",
    "plt.title('Polynomial Degree 2 Model on Training Data for Price')"
   ]
  },
  {
   "cell_type": "code",
   "execution_count": 152,
   "metadata": {},
   "outputs": [],
   "source": [
    "linear_model_poly_degree2_fit_log = linear_model_poly_degree2.fit(X_train_poly_degree2_log, y_train_new_log)"
   ]
  },
  {
   "cell_type": "code",
   "execution_count": 153,
   "metadata": {},
   "outputs": [],
   "source": [
    "linear_poly_degree2_predictions_train_log = linear_model_poly_degree2.predict(X_train_poly_degree2_log)"
   ]
  },
  {
   "cell_type": "code",
   "execution_count": 154,
   "metadata": {},
   "outputs": [
    {
     "data": {
      "text/plain": [
       "Text(0.5,1,'Polynomial Degree 2 Model on Training Data for Price_Log')"
      ]
     },
     "execution_count": 154,
     "metadata": {},
     "output_type": "execute_result"
    },
    {
     "data": {
      "image/png": "[encoded data removed]",
      "text/plain": [
       "<Figure size 432x288 with 1 Axes>"
      ]
     },
     "metadata": {},
     "output_type": "display_data"
    }
   ],
   "source": [
    "plt.scatter(y_train_new_log, linear_poly_degree2_predictions_train_log, alpha=0.5)\n",
    "plt.plot([0,8],[0,8],'r--')\n",
    "plt.xlabel('True Values')\n",
    "plt.ylabel('Predictions')\n",
    "plt.title('Polynomial Degree 2 Model on Training Data for Price_Log')"
   ]
  },
  {
   "cell_type": "markdown",
   "metadata": {},
   "source": [
    "# Generate third degree polynomial and interaction features"
   ]
  },
  {
   "cell_type": "code",
   "execution_count": 155,
   "metadata": {},
   "outputs": [],
   "source": [
    "poly_degree3_fit = PolynomialFeatures(3).fit(X_train_new)"
   ]
  },
  {
   "cell_type": "code",
   "execution_count": 156,
   "metadata": {},
   "outputs": [],
   "source": [
    "X_train_poly_degree3 = poly_degree3_fit.transform(X_train_new)"
   ]
  },
  {
   "cell_type": "code",
   "execution_count": 157,
   "metadata": {},
   "outputs": [],
   "source": [
    "poly_degree3_fit_log = PolynomialFeatures(3).fit(X_train_new_log)"
   ]
  },
  {
   "cell_type": "code",
   "execution_count": 158,
   "metadata": {},
   "outputs": [],
   "source": [
    "X_train_poly_degree3_log = poly_degree3_fit_log.transform(X_train_new_log)"
   ]
  },
  {
   "cell_type": "markdown",
   "metadata": {},
   "source": [
    "# DEPRECATED: Plot the data with the additional features from the third degree poly"
   ]
  },
  {
   "cell_type": "code",
   "execution_count": 159,
   "metadata": {},
   "outputs": [],
   "source": [
    "linear_model_poly_degree3 = LinearRegression()"
   ]
  },
  {
   "cell_type": "code",
   "execution_count": 160,
   "metadata": {},
   "outputs": [],
   "source": [
    "linear_model_poly_degree3_fit = linear_model_poly_degree3.fit(X_train_poly_degree3, y_train_new)"
   ]
  },
  {
   "cell_type": "code",
   "execution_count": 161,
   "metadata": {},
   "outputs": [],
   "source": [
    "linear_poly_degree3_predictions_train = linear_model_poly_degree3.predict(X_train_poly_degree3)"
   ]
  },
  {
   "cell_type": "code",
   "execution_count": 162,
   "metadata": {},
   "outputs": [],
   "source": [
    "# This polynomial degree of 3 fits much better than the degree of 2 and of 1\n",
    "# It might be overfitting already, but it's try degree of 4\n",
    "# plt.scatter(y_train, linear_poly_degree3_predictions_train, alpha=0.5)\n",
    "# plt.plot([0,500],[0,500],'r--')\n",
    "# plt.xlabel('True Values')\n",
    "# plt.ylabel('Predictions')\n",
    "# plt.title('Polynomial Degree 3 Model on Training Data')\n",
    "# plt.savefig('Third_degree_polynomial_on_training', xbbox_inches='tight')"
   ]
  },
  {
   "cell_type": "code",
   "execution_count": 163,
   "metadata": {},
   "outputs": [],
   "source": [
    "linear_model_poly_degree3_fit_log = linear_model_poly_degree3.fit(X_train_poly_degree3_log, y_train_new_log)"
   ]
  },
  {
   "cell_type": "code",
   "execution_count": 164,
   "metadata": {},
   "outputs": [],
   "source": [
    "linear_poly_degree3_predictions_train_log = linear_model_poly_degree3_fit_log.predict(X_train_poly_degree3_log)"
   ]
  },
  {
   "cell_type": "code",
   "execution_count": 165,
   "metadata": {},
   "outputs": [],
   "source": [
    "# plt.scatter(y_train_log, linear_poly_degree3_predictions_train_log, alpha=0.5)\n",
    "# plt.plot([0,10],[0,10],'r--')\n",
    "# plt.xlabel('True Values')\n",
    "# plt.ylabel('Predictions')\n",
    "# plt.title('Polynomial Degree 3 Model on Training Data')\n",
    "# plt.savefig('Third_degree_polynomial_on_training', xbbox_inches='tight')"
   ]
  },
  {
   "cell_type": "markdown",
   "metadata": {},
   "source": [
    "# Review all of the degrees"
   ]
  },
  {
   "cell_type": "code",
   "execution_count": 166,
   "metadata": {},
   "outputs": [],
   "source": [
    "# Step through degrees from 0 to 9 and store the training and test (generalization) error.\n",
    "train_error = np.empty(10)\n",
    "val_error = np.empty(10)\n",
    "for degree in range(10):\n",
    "    est = make_pipeline(PolynomialFeatures(degree), LinearRegression())\n",
    "    est.fit(X_train_new_log, y_train_new_log)\n",
    "    train_error[degree] = mean_squared_error(y_train_new_log, est.predict(X_train_new_log))\n",
    "    val_error[degree] = mean_squared_error(y_val_new_log, est.predict(X_val_new_log))"
   ]
  },
  {
   "cell_type": "code",
   "execution_count": 167,
   "metadata": {},
   "outputs": [
    {
     "data": {
      "image/png": "[encoded data removed]",
      "text/plain": [
       "<Figure size 576x432 with 1 Axes>"
      ]
     },
     "metadata": {},
     "output_type": "display_data"
    }
   ],
   "source": [
    "# Plot the training and test errors against degree\n",
    "plt.figure(figsize=(8,6))\n",
    "plt.plot(np.arange(10), train_error, marker='o', color='green', label='train')\n",
    "plt.plot(np.arange(10), val_error, color='red', label='validation')\n",
    "plt.ylim((0.0, 5))\n",
    "plt.ylabel('log(mean squared error)')\n",
    "plt.xlabel('degree')\n",
    "plt.legend(loc='upper left');"
   ]
  },
  {
   "cell_type": "markdown",
   "metadata": {},
   "source": [
    "# Summary of findings from trying different polynomials\n",
    "The pipeline chart above confirms that I need to use a first degree polynomial or I need to use a second degree and then significantly regularize. I will try using the first degree. Also, the findings throughout showed that using the log_price as a target was a much better fit, so I will use log_price."
   ]
  },
  {
   "cell_type": "markdown",
   "metadata": {},
   "source": [
    "# Apply the first degree linear regression on the new set of features for log"
   ]
  },
  {
   "cell_type": "code",
   "execution_count": 168,
   "metadata": {},
   "outputs": [],
   "source": [
    "# Fit the training data to the linear model\n",
    "linear_model_fit = lm.fit(X_train_new, y_train_new)\n",
    "\n",
    "# Apply the linear model to the validation data to obtain predictions \n",
    "linear_predictions_validation_new = lm.predict(X_val_new)"
   ]
  },
  {
   "cell_type": "code",
   "execution_count": 169,
   "metadata": {},
   "outputs": [
    {
     "data": {
      "text/plain": [
       "array([ 1.93657612,  3.11234817,  2.93113945,  3.21663007,  2.84175509,\n",
       "        2.98458629,  2.88842669,  2.7805221 ,  2.81605163,  3.08521714,\n",
       "        3.36369747,  3.05037829,  3.57288984,  2.8575981 ,  2.9274063 ,\n",
       "        3.11352562,  3.36489831,  3.10190342,  2.82609895,  3.2000998 ,\n",
       "        2.83515003, -0.79359703,  3.23313231,  3.22206882,  3.02814466,\n",
       "        3.1906748 ,  2.79029965,  3.26650927,  3.2830728 ,  3.07071417,\n",
       "        2.91836944,  2.43133223,  2.652452  ,  3.23690032,  3.21817093,\n",
       "        3.36019519,  3.38018302,  3.2875554 ,  3.30800169,  3.66036361,\n",
       "        3.23451903,  2.96381498,  3.54127123,  3.17374277,  3.1610101 ,\n",
       "        2.70890493,  2.84696496])"
      ]
     },
     "execution_count": 169,
     "metadata": {},
     "output_type": "execute_result"
    }
   ],
   "source": [
    "# Fit the training data to the linear model\n",
    "linear_model_fit_log = lm.fit(X_train_new_log, y_train_new_log)\n",
    "\n",
    "# Apply the linear model to the validation data to obtain predictions \n",
    "linear_predictions_validation_log_new = lm.predict(X_val_new_log)\n",
    "linear_predictions_validation_log_new"
   ]
  },
  {
   "cell_type": "code",
   "execution_count": 170,
   "metadata": {},
   "outputs": [
    {
     "data": {
      "text/plain": [
       "Text(0.5,1,'Linear Regression Degree 1 Model on Training Data targeting Price')"
      ]
     },
     "execution_count": 170,
     "metadata": {},
     "output_type": "execute_result"
    },
    {
     "data": {
      "image/png": "[encoded data removed]",
      "text/plain": [
       "<Figure size 432x288 with 1 Axes>"
      ]
     },
     "metadata": {},
     "output_type": "display_data"
    }
   ],
   "source": [
    "plt.scatter(y_val_new, linear_predictions_validation_new, alpha=0.5)\n",
    "plt.plot([min(y_val_new),max(y_val_new)],[min(y_val_new),max(y_val_new)],'r--')\n",
    "plt.xlabel('True Values')\n",
    "plt.ylabel('Predictions')\n",
    "plt.title('Linear Regression Degree 1 Model on Training Data targeting Price')"
   ]
  },
  {
   "cell_type": "code",
   "execution_count": 171,
   "metadata": {},
   "outputs": [],
   "source": [
    "residuals = y_val_new - linear_predictions_validation_new"
   ]
  },
  {
   "cell_type": "code",
   "execution_count": 172,
   "metadata": {},
   "outputs": [
    {
     "data": {
      "text/plain": [
       "<matplotlib.collections.PathCollection at 0x1c19fc5ba8>"
      ]
     },
     "execution_count": 172,
     "metadata": {},
     "output_type": "execute_result"
    },
    {
     "data": {
      "image/png": "[encoded data removed]",
      "text/plain": [
       "<Figure size 432x288 with 1 Axes>"
      ]
     },
     "metadata": {},
     "output_type": "display_data"
    }
   ],
   "source": [
    "# According to this graph, my model has basically no predictive power. \n",
    "# There might be something for any price below 50, but beyond that price, it is worthless\n",
    "plt.scatter(y_val_new, residuals)"
   ]
  },
  {
   "cell_type": "markdown",
   "metadata": {},
   "source": [
    "# Final graph"
   ]
  },
  {
   "cell_type": "code",
   "execution_count": 173,
   "metadata": {},
   "outputs": [
    {
     "data": {
      "image/png": "[encoded data removed]",
      "text/plain": [
       "<Figure size 1440x720 with 1 Axes>"
      ]
     },
     "metadata": {},
     "output_type": "display_data"
    }
   ],
   "source": [
    "# Changed the font colors to be good for my presentation background, that's why the text is not visible here\n",
    "ax = plt.figure(figsize=(20,10))\n",
    "#plt.axis('off')\n",
    "final_bar = plt.bar(y_val_new, residuals, width=3, color='#f44174')\n",
    "plt.title('Mean Absolute Errors in Price Predictions V Actual Prices', size=35, color='white')\n",
    "plt.xlabel('Actual Prices ($)', size=27, color='white')\n",
    "plt.ylabel('Mean Absolute Error in Price Prediction ($)', size=27, color='white')\n",
    "plt.xticks(size=20, color='white')\n",
    "plt.yticks(size=20, color='white')\n",
    "plt.savefig('Project2_FinalPlot', xbbox_inches='tight', transparent=True)\n"
   ]
  },
  {
   "cell_type": "code",
   "execution_count": 174,
   "metadata": {},
   "outputs": [
    {
     "name": "stderr",
     "output_type": "stream",
     "text": [
      "/Users/Victoria/anaconda/envs/ds/lib/python3.6/site-packages/seaborn/categorical.py:1460: FutureWarning: remove_na is deprecated and is a private function. Do not use.\n",
      "  stat_data = remove_na(group_data)\n"
     ]
    },
    {
     "ename": "NameError",
     "evalue": "name 'xticklabels' is not defined",
     "output_type": "error",
     "traceback": [
      "\u001b[0;31m---------------------------------------------------------------------------\u001b[0m",
      "\u001b[0;31mNameError\u001b[0m                                 Traceback (most recent call last)",
      "\u001b[0;32m<ipython-input-174-731de867d4bc>\u001b[0m in \u001b[0;36m<module>\u001b[0;34m()\u001b[0m\n\u001b[1;32m      1\u001b[0m \u001b[0msns\u001b[0m\u001b[0;34m.\u001b[0m\u001b[0mset_style\u001b[0m\u001b[0;34m(\u001b[0m\u001b[0;34m\"whitegrid\"\u001b[0m\u001b[0;34m)\u001b[0m\u001b[0;34m\u001b[0m\u001b[0m\n\u001b[1;32m      2\u001b[0m \u001b[0mfinal_plot\u001b[0m \u001b[0;34m=\u001b[0m \u001b[0msns\u001b[0m\u001b[0;34m.\u001b[0m\u001b[0mbarplot\u001b[0m\u001b[0;34m(\u001b[0m\u001b[0my_val_new\u001b[0m\u001b[0;34m,\u001b[0m \u001b[0mresiduals\u001b[0m\u001b[0;34m,\u001b[0m \u001b[0mpalette\u001b[0m\u001b[0;34m=\u001b[0m\u001b[0;34m\"Blues_d\"\u001b[0m\u001b[0;34m)\u001b[0m\u001b[0;34m\u001b[0m\u001b[0m\n\u001b[0;32m----> 3\u001b[0;31m \u001b[0mfinal_plot\u001b[0m\u001b[0;34m.\u001b[0m\u001b[0mset\u001b[0m\u001b[0;34m(\u001b[0m\u001b[0mxticklabels\u001b[0m\u001b[0;34m(\u001b[0m\u001b[0mnp\u001b[0m\u001b[0;34m.\u001b[0m\u001b[0marange\u001b[0m\u001b[0;34m(\u001b[0m\u001b[0;36m50\u001b[0m\u001b[0;34m,\u001b[0m \u001b[0;36m200\u001b[0m\u001b[0;34m,\u001b[0m \u001b[0;36m25\u001b[0m\u001b[0;34m)\u001b[0m\u001b[0;34m)\u001b[0m\u001b[0;34m)\u001b[0m\u001b[0;34m\u001b[0m\u001b[0m\n\u001b[0m\u001b[1;32m      4\u001b[0m \u001b[0msns\u001b[0m\u001b[0;34m.\u001b[0m\u001b[0mfigure\u001b[0m\u001b[0;34m(\u001b[0m\u001b[0mfigsize\u001b[0m\u001b[0;34m=\u001b[0m\u001b[0;34m(\u001b[0m\u001b[0;36m80\u001b[0m\u001b[0;34m,\u001b[0m\u001b[0;36m10\u001b[0m\u001b[0;34m)\u001b[0m\u001b[0;34m)\u001b[0m\u001b[0;34m\u001b[0m\u001b[0m\n",
      "\u001b[0;31mNameError\u001b[0m: name 'xticklabels' is not defined"
     ]
    },
    {
     "data": {
      "image/png": "[encoded data removed]",
      "text/plain": [
       "<Figure size 432x288 with 1 Axes>"
      ]
     },
     "metadata": {},
     "output_type": "display_data"
    }
   ],
   "source": [
    "sns.set_style(\"whitegrid\")\n",
    "final_plot = sns.barplot(y_val_new, residuals, palette=\"Blues_d\")\n",
    "final_plot.set(xticklabels(np.arange(50, 200, 25)))\n",
    "sns.figure(figsize=(80,10))"
   ]
  },
  {
   "cell_type": "code",
   "execution_count": null,
   "metadata": {},
   "outputs": [],
   "source": [
    "plt.scatter(y_val_new_log, linear_predictions_validation_log_new, alpha=0.5)\n",
    "plt.plot([0,10],[0,10],'r--')\n",
    "plt.xlabel('True Values')\n",
    "plt.ylabel('Predictions')"
   ]
  },
  {
   "cell_type": "code",
   "execution_count": null,
   "metadata": {},
   "outputs": [],
   "source": [
    "plt.title('Linear Regression Degree 1 Model on Training Data targeting Log Price')"
   ]
  },
  {
   "cell_type": "code",
   "execution_count": null,
   "metadata": {},
   "outputs": [],
   "source": [
    "mean_absolute_error(y_val_new, linear_predictions_validation_new)"
   ]
  },
  {
   "cell_type": "markdown",
   "metadata": {},
   "source": [
    "# DEPRECATED: Apply regularization to third degree polynomial model"
   ]
  },
  {
   "cell_type": "markdown",
   "metadata": {},
   "source": [
    "I realized that I didn't need to use a third degree polynomial anymore. "
   ]
  },
  {
   "cell_type": "code",
   "execution_count": null,
   "metadata": {},
   "outputs": [],
   "source": [
    "linear_model_poly_degree2_fit = Ridge(max_iter=5000)\n",
    "parameters = {'alpha': np.logspace(1e-8, 2, 10)}\n",
    "grid = GridSearchCV(linear_model_poly_degree2_fit,parameters, cv=5, scoring='neg_mean_absolute_error', n_jobs=-1)"
   ]
  },
  {
   "cell_type": "code",
   "execution_count": null,
   "metadata": {},
   "outputs": [],
   "source": [
    "grid.fit(X_train_poly_degree2,y_train_new)"
   ]
  },
  {
   "cell_type": "code",
   "execution_count": null,
   "metadata": {},
   "outputs": [],
   "source": [
    "np.logspace(1e-8, 2, 10)"
   ]
  }
 ],
 "metadata": {
  "kernelspec": {
   "display_name": "Python 3",
   "language": "python",
   "name": "python3"
  },
  "language_info": {
   "codemirror_mode": {
    "name": "ipython",
    "version": 3
   },
   "file_extension": ".py",
   "mimetype": "text/x-python",
   "name": "python",
   "nbconvert_exporter": "python",
   "pygments_lexer": "ipython3",
   "version": "3.6.3"
  },
  "toc": {
   "base_numbering": 1,
   "nav_menu": {},
   "number_sections": true,
   "sideBar": true,
   "skip_h1_title": false,
   "title_cell": "Table of Contents",
   "title_sidebar": "Contents",
   "toc_cell": false,
   "toc_position": {},
   "toc_section_display": true,
   "toc_window_display": false
  }
 },
 "nbformat": 4,
 "nbformat_minor": 2
}
