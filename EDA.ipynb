{
 "cells": [
  {
   "cell_type": "markdown",
   "metadata": {},
   "source": [
    "# Import modules/ libraries"
   ]
  },
  {
   "cell_type": "code",
   "execution_count": 3,
   "metadata": {},
   "outputs": [
    {
     "name": "stderr",
     "output_type": "stream",
     "text": [
      "/Users/Victoria/anaconda/envs/ds/lib/python3.6/site-packages/statsmodels/compat/pandas.py:56: FutureWarning: The pandas.core.datetools module is deprecated and will be removed in a future version. Please use the pandas.tseries module instead.\n",
      "  from pandas.core import datetools\n",
      "/Users/Victoria/anaconda/envs/ds/lib/python3.6/site-packages/sklearn/cross_validation.py:41: DeprecationWarning: This module was deprecated in version 0.18 in favor of the model_selection module into which all the refactored classes and functions are moved. Also note that the interface of the new CV iterators are different from that of this module. This module will be removed in 0.20.\n",
      "  \"This module will be removed in 0.20.\", DeprecationWarning)\n"
     ]
    }
   ],
   "source": [
    "import os\n",
    "import sys\n",
    "import pandas as pd\n",
    "import numpy as np\n",
    "from pandas import DataFrame, read_csv\n",
    "import matplotlib.pyplot as plt\n",
    "from IPython.display import Image, Markdown\n",
    "import seaborn as sns\n",
    "plt.style.use('seaborn')\n",
    "from fuzzywuzzy import process\n",
    "import difflib\n",
    "from __future__ import print_function, division\n",
    "import datetime\n",
    "from datetime import datetime as dt\n",
    "from scipy.ndimage.filters import generic_filter\n",
    "import pickle\n",
    "from __future__ import print_function, division\n",
    "import patsy\n",
    "import statsmodels.api as sm\n",
    "import statsmodels.formula.api as smf\n",
    "from sklearn import datasets, linear_model, metrics\n",
    "from sklearn.cross_validation import cross_val_score, cross_val_predict\n",
    "from sklearn.preprocessing import StandardScaler\n",
    "from sklearn.model_selection import train_test_split, GridSearchCV\n",
    "from sklearn.linear_model import Ridge, Lasso, RidgeCV, LinearRegression\n",
    "\n",
    "\n",
    "\n",
    "%matplotlib inline"
   ]
  },
  {
   "cell_type": "markdown",
   "metadata": {},
   "source": [
    "# Import all data"
   ]
  },
  {
   "cell_type": "code",
   "execution_count": 4,
   "metadata": {},
   "outputs": [],
   "source": [
    "with open('all_product_listings_for_modeling.pkl', 'rb') as picklefile: \n",
    "    all_product_listings_for_modeling = pickle.load(picklefile)"
   ]
  },
  {
   "cell_type": "markdown",
   "metadata": {},
   "source": [
    "# Check the imported data"
   ]
  },
  {
   "cell_type": "code",
   "execution_count": 5,
   "metadata": {},
   "outputs": [
    {
     "data": {
      "text/plain": [
       "Index(['num_cust_reviews', 'list_price', 'avg_cust_review',\n",
       "       'num_answered_questions', 'lowest_other_used_price',\n",
       "       'product_discounts', 'time_on_market', 'other_sellers_boolean',\n",
       "       'expedited_shipping_boolean', 'num_bullets_description',\n",
       "       'product_specs_image_boolean', 'num_specs_bullets',\n",
       "       'seller_rank_boolean', 'clothing_seller_rank',\n",
       "       'seller_rank_binary_list', 'prime_binary', 'log_price'],\n",
       "      dtype='object')"
      ]
     },
     "execution_count": 5,
     "metadata": {},
     "output_type": "execute_result"
    }
   ],
   "source": [
    "all_product_listings_for_modeling.columns"
   ]
  },
  {
   "cell_type": "code",
   "execution_count": 6,
   "metadata": {},
   "outputs": [
    {
     "name": "stdout",
     "output_type": "stream",
     "text": [
      "<class 'pandas.core.frame.DataFrame'>\n",
      "Int64Index: 156 entries, 0 to 171\n",
      "Data columns (total 17 columns):\n",
      "num_cust_reviews               156 non-null float64\n",
      "list_price                     156 non-null float64\n",
      "avg_cust_review                156 non-null float64\n",
      "num_answered_questions         156 non-null float64\n",
      "lowest_other_used_price        156 non-null int64\n",
      "product_discounts              156 non-null float64\n",
      "time_on_market                 156 non-null float64\n",
      "other_sellers_boolean          156 non-null int64\n",
      "expedited_shipping_boolean     156 non-null int64\n",
      "num_bullets_description        156 non-null int64\n",
      "product_specs_image_boolean    156 non-null int64\n",
      "num_specs_bullets              156 non-null int64\n",
      "seller_rank_boolean            156 non-null int64\n",
      "clothing_seller_rank           156 non-null int64\n",
      "seller_rank_binary_list        156 non-null int64\n",
      "prime_binary                   156 non-null int64\n",
      "log_price                      156 non-null float64\n",
      "dtypes: float64(7), int64(10)\n",
      "memory usage: 21.9 KB\n"
     ]
    }
   ],
   "source": [
    "all_product_listings_for_modeling.info()"
   ]
  },
  {
   "cell_type": "code",
   "execution_count": 7,
   "metadata": {},
   "outputs": [
    {
     "data": {
      "text/plain": [
       "126    329.990\n",
       "136    243.185\n",
       "144    199.000\n",
       "160    197.260\n",
       "156    179.990\n",
       "120    170.990\n",
       "148    143.990\n",
       "105    120.745\n",
       "111    120.495\n",
       "92     116.995\n",
       "38     114.495\n",
       "149    110.415\n",
       "97     106.660\n",
       "36     103.595\n",
       "93      89.960\n",
       "85      87.480\n",
       "101     82.490\n",
       "94      80.970\n",
       "7       76.225\n",
       "0       74.990\n",
       "108     59.990\n",
       "65      51.980\n",
       "91      49.390\n",
       "168     43.470\n",
       "146     42.000\n",
       "127     39.990\n",
       "99      39.970\n",
       "69      39.900\n",
       "98      39.500\n",
       "139     39.500\n",
       "        ...   \n",
       "30      12.490\n",
       "137     12.490\n",
       "87      11.990\n",
       "17      11.990\n",
       "104     11.990\n",
       "140     11.890\n",
       "141     11.890\n",
       "135     11.890\n",
       "130     11.890\n",
       "132     11.890\n",
       "117     11.890\n",
       "109     11.890\n",
       "106     11.890\n",
       "112     11.890\n",
       "128     11.890\n",
       "76      11.890\n",
       "119     11.890\n",
       "138     11.700\n",
       "3       11.290\n",
       "28      11.090\n",
       "40      10.990\n",
       "60      10.490\n",
       "20      10.490\n",
       "163      9.990\n",
       "2        9.990\n",
       "70       9.990\n",
       "25       9.980\n",
       "19       9.970\n",
       "134      8.500\n",
       "4        8.390\n",
       "Name: list_price, Length: 156, dtype: float64"
      ]
     },
     "execution_count": 7,
     "metadata": {},
     "output_type": "execute_result"
    }
   ],
   "source": [
    "all_product_listings_for_modeling['list_price'].sort_values(ascending=False)"
   ]
  },
  {
   "cell_type": "markdown",
   "metadata": {},
   "source": [
    "# Create a correlation plot for reach of the features against list_price"
   ]
  },
  {
   "cell_type": "markdown",
   "metadata": {
    "heading_collapsed": true
   },
   "source": [
    "### Check num_specs_bullets "
   ]
  },
  {
   "cell_type": "code",
   "execution_count": 8,
   "metadata": {
    "hidden": true
   },
   "outputs": [],
   "source": [
    "price_by_num_specs_bullets = all_product_listings_for_modeling[['list_price', 'num_specs_bullets']].copy()"
   ]
  },
  {
   "cell_type": "code",
   "execution_count": 9,
   "metadata": {
    "hidden": true
   },
   "outputs": [
    {
     "data": {
      "image/png": "[encoded data removed]",
      "text/plain": [
       "<Figure size 432x288 with 1 Axes>"
      ]
     },
     "metadata": {},
     "output_type": "display_data"
    }
   ],
   "source": [
    "price_by_num_specs_bullets_scatter = price_by_num_specs_bullets.plot.scatter(x= 'num_specs_bullets', y= 'list_price')"
   ]
  },
  {
   "cell_type": "markdown",
   "metadata": {
    "hidden": true
   },
   "source": [
    "There MIGHT be correlation, not sure, will keep as feature for now"
   ]
  },
  {
   "cell_type": "markdown",
   "metadata": {
    "heading_collapsed": true
   },
   "source": [
    "### Check num_bullets_description"
   ]
  },
  {
   "cell_type": "code",
   "execution_count": 10,
   "metadata": {
    "hidden": true
   },
   "outputs": [],
   "source": [
    "price_by_num_bullets_description = all_product_listings_for_modeling[['list_price', 'num_bullets_description']].copy()"
   ]
  },
  {
   "cell_type": "code",
   "execution_count": 11,
   "metadata": {
    "hidden": true
   },
   "outputs": [
    {
     "data": {
      "image/png": "[encoded data removed]",
      "text/plain": [
       "<Figure size 432x288 with 1 Axes>"
      ]
     },
     "metadata": {},
     "output_type": "display_data"
    }
   ],
   "source": [
    "price_by_num_bullets_description_scatter = price_by_num_bullets_description.plot.scatter(x= 'num_bullets_description', y= 'list_price')"
   ]
  },
  {
   "cell_type": "markdown",
   "metadata": {
    "hidden": true
   },
   "source": [
    "There MIGHT be correlation here. I'll keep this feature for now"
   ]
  },
  {
   "cell_type": "markdown",
   "metadata": {
    "heading_collapsed": true
   },
   "source": [
    "### Check product_specs_image_boolean"
   ]
  },
  {
   "cell_type": "code",
   "execution_count": 12,
   "metadata": {
    "hidden": true
   },
   "outputs": [],
   "source": [
    "price_by_product_specs_image_boolean = all_product_listings_for_modeling[['list_price', 'product_specs_image_boolean']].copy()"
   ]
  },
  {
   "cell_type": "code",
   "execution_count": 13,
   "metadata": {
    "hidden": true
   },
   "outputs": [
    {
     "data": {
      "image/png": "[encoded data removed]",
      "text/plain": [
       "<Figure size 432x288 with 1 Axes>"
      ]
     },
     "metadata": {},
     "output_type": "display_data"
    }
   ],
   "source": [
    "price_by_product_specs_image_boolean_scatter = price_by_product_specs_image_boolean.plot.scatter(x= 'product_specs_image_boolean', y= 'list_price')"
   ]
  },
  {
   "cell_type": "markdown",
   "metadata": {
    "hidden": true
   },
   "source": [
    "MIGHT be correlation? Going to keep this feature just in case."
   ]
  },
  {
   "cell_type": "markdown",
   "metadata": {
    "heading_collapsed": true
   },
   "source": [
    "### Check seller_rank_binary_list"
   ]
  },
  {
   "cell_type": "code",
   "execution_count": 14,
   "metadata": {
    "hidden": true
   },
   "outputs": [],
   "source": [
    "price_by_seller_rank_binary = all_product_listings_for_modeling[['list_price', 'seller_rank_binary_list']].copy()"
   ]
  },
  {
   "cell_type": "code",
   "execution_count": 15,
   "metadata": {
    "hidden": true
   },
   "outputs": [
    {
     "data": {
      "image/png": "[encoded data removed]",
      "text/plain": [
       "<Figure size 432x288 with 1 Axes>"
      ]
     },
     "metadata": {},
     "output_type": "display_data"
    }
   ],
   "source": [
    "price_by_seller_rank_binary_scatter = price_by_seller_rank_binary.plot.scatter(x= 'seller_rank_binary_list', y= 'list_price')"
   ]
  },
  {
   "cell_type": "markdown",
   "metadata": {
    "hidden": true
   },
   "source": [
    "Seems like there's no correlation, but I'm not sure from this type of graph. I will still include it as a feature"
   ]
  },
  {
   "cell_type": "markdown",
   "metadata": {
    "heading_collapsed": true
   },
   "source": [
    "### Check clothing_seller_rank"
   ]
  },
  {
   "cell_type": "code",
   "execution_count": 16,
   "metadata": {
    "hidden": true
   },
   "outputs": [],
   "source": [
    "price_by_clothing_seller_rank = all_product_listings_for_modeling[['list_price', 'clothing_seller_rank']].copy()"
   ]
  },
  {
   "cell_type": "code",
   "execution_count": 17,
   "metadata": {
    "hidden": true
   },
   "outputs": [
    {
     "data": {
      "image/png": "[encoded data removed]",
      "text/plain": [
       "<Figure size 432x288 with 1 Axes>"
      ]
     },
     "metadata": {},
     "output_type": "display_data"
    }
   ],
   "source": [
    "price_by_clothing_seller_rank_scatter = price_by_clothing_seller_rank.plot.scatter(x= 'clothing_seller_rank', y= 'list_price')"
   ]
  },
  {
   "cell_type": "markdown",
   "metadata": {
    "hidden": true
   },
   "source": [
    "Seems like there are crazy outliers. Let's zoom in."
   ]
  },
  {
   "cell_type": "code",
   "execution_count": 18,
   "metadata": {
    "hidden": true
   },
   "outputs": [
    {
     "data": {
      "text/plain": [
       "(1, 250)"
      ]
     },
     "execution_count": 18,
     "metadata": {},
     "output_type": "execute_result"
    },
    {
     "data": {
      "image/png": "[encoded data removed]",
      "text/plain": [
       "<Figure size 432x288 with 1 Axes>"
      ]
     },
     "metadata": {},
     "output_type": "display_data"
    }
   ],
   "source": [
    "price_by_clothing_seller_rank_scatter_closeup = price_by_clothing_seller_rank.plot.scatter(x= 'clothing_seller_rank', y= 'list_price')\n",
    "plt.xlim(1,1000000)\n",
    "plt.ylim(1,250)"
   ]
  },
  {
   "cell_type": "markdown",
   "metadata": {
    "hidden": true
   },
   "source": [
    "Looks like there MIGHT be correlation, or there's just too much noise. I'll keep this feature"
   ]
  },
  {
   "cell_type": "markdown",
   "metadata": {
    "heading_collapsed": true
   },
   "source": [
    "### Check expedited_shipping_boolean"
   ]
  },
  {
   "cell_type": "code",
   "execution_count": 19,
   "metadata": {
    "hidden": true
   },
   "outputs": [],
   "source": [
    "price_by_expedited_shipping_boolean = all_product_listings_for_modeling[['list_price', 'expedited_shipping_boolean']].copy()"
   ]
  },
  {
   "cell_type": "code",
   "execution_count": 20,
   "metadata": {
    "hidden": true
   },
   "outputs": [
    {
     "data": {
      "image/png": "[encoded data removed]",
      "text/plain": [
       "<Figure size 432x288 with 1 Axes>"
      ]
     },
     "metadata": {},
     "output_type": "display_data"
    }
   ],
   "source": [
    "price_by_expedited_shipping_boolean_scatter = price_by_expedited_shipping_boolean.plot.scatter(x= 'expedited_shipping_boolean', y= 'list_price')"
   ]
  },
  {
   "cell_type": "markdown",
   "metadata": {
    "hidden": true
   },
   "source": [
    "As we saw in the raw data and now here, there are only a few products with expedited shipping available, and there is no correlation. Therefore, we will remove this as a feature. "
   ]
  },
  {
   "cell_type": "markdown",
   "metadata": {
    "heading_collapsed": true
   },
   "source": [
    "### Check other_sellers_boolean"
   ]
  },
  {
   "cell_type": "code",
   "execution_count": 21,
   "metadata": {
    "hidden": true
   },
   "outputs": [],
   "source": [
    "price_by_other_sellers_boolean = all_product_listings_for_modeling[['list_price', 'other_sellers_boolean']].copy()"
   ]
  },
  {
   "cell_type": "code",
   "execution_count": 22,
   "metadata": {
    "hidden": true
   },
   "outputs": [
    {
     "data": {
      "image/png": "[encoded data removed]",
      "text/plain": [
       "<Figure size 432x288 with 1 Axes>"
      ]
     },
     "metadata": {},
     "output_type": "display_data"
    }
   ],
   "source": [
    "price_by_other_sellers_boolean_scatter = price_by_other_sellers_boolean.plot.scatter(x= 'other_sellers_boolean', y= 'list_price')"
   ]
  },
  {
   "cell_type": "markdown",
   "metadata": {
    "hidden": true
   },
   "source": [
    "From the above and from the raw data, we confirmed that there is only one product with another seller. That said, there is still the one product that has another seller, so there MIGHT be correlation. Let's keep this feature for now."
   ]
  },
  {
   "cell_type": "markdown",
   "metadata": {
    "heading_collapsed": true
   },
   "source": [
    "### Check time on market"
   ]
  },
  {
   "cell_type": "code",
   "execution_count": 23,
   "metadata": {
    "hidden": true
   },
   "outputs": [],
   "source": [
    "price_by_time_on_market = all_product_listings_for_modeling[['list_price', 'time_on_market']].copy()"
   ]
  },
  {
   "cell_type": "code",
   "execution_count": 24,
   "metadata": {
    "hidden": true
   },
   "outputs": [
    {
     "data": {
      "image/png": "[encoded data removed]",
      "text/plain": [
       "<Figure size 432x288 with 1 Axes>"
      ]
     },
     "metadata": {},
     "output_type": "display_data"
    }
   ],
   "source": [
    "price_by_time_on_market_scatter = price_by_time_on_market.plot.scatter(x= 'time_on_market', y= 'list_price')"
   ]
  },
  {
   "cell_type": "markdown",
   "metadata": {
    "hidden": true
   },
   "source": [
    "It seems like there's are quite a few outliers. Let's dive deeper into the subset with the most datapoints"
   ]
  },
  {
   "cell_type": "code",
   "execution_count": 25,
   "metadata": {
    "hidden": true
   },
   "outputs": [
    {
     "data": {
      "text/plain": [
       "(0, 200)"
      ]
     },
     "execution_count": 25,
     "metadata": {},
     "output_type": "execute_result"
    },
    {
     "data": {
      "image/png": "[encoded data removed]",
      "text/plain": [
       "<Figure size 432x288 with 1 Axes>"
      ]
     },
     "metadata": {},
     "output_type": "display_data"
    }
   ],
   "source": [
    "# When we look closer, it does seem like there might be a correlation\n",
    "price_by_time_on_market_scatter = price_by_time_on_market.plot.scatter(x= 'time_on_market', y= 'list_price')\n",
    "plt.xlim(0,3000)\n",
    "plt.ylim(0,200)"
   ]
  },
  {
   "cell_type": "code",
   "execution_count": 26,
   "metadata": {
    "hidden": true
   },
   "outputs": [
    {
     "data": {
      "text/plain": [
       "(0, 125)"
      ]
     },
     "execution_count": 26,
     "metadata": {},
     "output_type": "execute_result"
    },
    {
     "data": {
      "image/png": "[encoded data removed]",
      "text/plain": [
       "<Figure size 432x288 with 1 Axes>"
      ]
     },
     "metadata": {},
     "output_type": "display_data"
    }
   ],
   "source": [
    "# When we look even closer, though, it seems like there isn't a correlation. But we should keep this feature for analysis just in case.\n",
    "price_by_time_on_market_scatter = price_by_time_on_market.plot.scatter(x= 'time_on_market', y= 'list_price')\n",
    "plt.xlim(0,1500)\n",
    "plt.ylim(0,125)"
   ]
  },
  {
   "cell_type": "markdown",
   "metadata": {
    "heading_collapsed": true
   },
   "source": [
    "### Check product_discounts"
   ]
  },
  {
   "cell_type": "markdown",
   "metadata": {
    "hidden": true
   },
   "source": [
    "There should not be a correlation, since the discounts are always applied after the list price. Let's just make sure."
   ]
  },
  {
   "cell_type": "code",
   "execution_count": 27,
   "metadata": {
    "hidden": true
   },
   "outputs": [],
   "source": [
    "price_by_product_discounts = all_product_listings_for_modeling[['list_price', 'product_discounts']].copy()"
   ]
  },
  {
   "cell_type": "code",
   "execution_count": 28,
   "metadata": {
    "hidden": true
   },
   "outputs": [
    {
     "data": {
      "image/png": "[encoded data removed]",
      "text/plain": [
       "<Figure size 432x288 with 1 Axes>"
      ]
     },
     "metadata": {},
     "output_type": "display_data"
    }
   ],
   "source": [
    "price_by_product_discounts_scatter = price_by_product_discounts.plot.scatter(x= 'product_discounts', y= 'list_price')"
   ]
  },
  {
   "cell_type": "markdown",
   "metadata": {
    "hidden": true
   },
   "source": [
    "As expected, there is no correlation. This will be removed as a feature. "
   ]
  },
  {
   "cell_type": "markdown",
   "metadata": {
    "heading_collapsed": true
   },
   "source": [
    "### Check outliers for lowest_other_used_price"
   ]
  },
  {
   "cell_type": "code",
   "execution_count": 29,
   "metadata": {
    "hidden": true
   },
   "outputs": [],
   "source": [
    "price_by_lowest_other_used_price = all_product_listings_for_modeling[['list_price', 'lowest_other_used_price']].copy()"
   ]
  },
  {
   "cell_type": "code",
   "execution_count": 30,
   "metadata": {
    "hidden": true
   },
   "outputs": [
    {
     "data": {
      "image/png": "[encoded data removed]",
      "text/plain": [
       "<Figure size 432x288 with 1 Axes>"
      ]
     },
     "metadata": {},
     "output_type": "display_data"
    }
   ],
   "source": [
    "price_by_lowest_other_used_price_scatter = price_by_lowest_other_used_price.plot.scatter(x= 'lowest_other_used_price', y= 'list_price')"
   ]
  },
  {
   "cell_type": "markdown",
   "metadata": {
    "hidden": true
   },
   "source": [
    "As we saw with the raw data before plotting, there were no other used prices associated with the products scraped. Therefore there is no correlation. "
   ]
  },
  {
   "cell_type": "markdown",
   "metadata": {
    "heading_collapsed": true
   },
   "source": [
    "### Check outliers and correlation for num_answered_ questions"
   ]
  },
  {
   "cell_type": "code",
   "execution_count": 31,
   "metadata": {
    "hidden": true
   },
   "outputs": [],
   "source": [
    "price_by_num_answered_questions = all_product_listings_for_modeling[['list_price', 'num_answered_questions']].copy()"
   ]
  },
  {
   "cell_type": "code",
   "execution_count": 32,
   "metadata": {
    "hidden": true
   },
   "outputs": [
    {
     "data": {
      "image/png": "[encoded data removed]",
      "text/plain": [
       "<Figure size 432x288 with 1 Axes>"
      ]
     },
     "metadata": {},
     "output_type": "display_data"
    }
   ],
   "source": [
    "price_by_num_answered_questions_scatter = price_by_num_answered_questions.plot.scatter(x= 'num_answered_questions', y= 'list_price')"
   ]
  },
  {
   "cell_type": "markdown",
   "metadata": {
    "hidden": true
   },
   "source": [
    "As we saw in the raw data before plotting, there are many products with no answered questions. That said, it looks like of the few products that do have more answered questions also had higher list price. There might be slight correlation, however statistically insignificant"
   ]
  },
  {
   "cell_type": "markdown",
   "metadata": {
    "heading_collapsed": true
   },
   "source": [
    "### Check outliers and correlation for num_cust_reviews"
   ]
  },
  {
   "cell_type": "code",
   "execution_count": 33,
   "metadata": {
    "hidden": true
   },
   "outputs": [],
   "source": [
    "price_by_num_cust_review = all_product_listings_for_modeling[['list_price', 'num_cust_reviews']].copy()"
   ]
  },
  {
   "cell_type": "code",
   "execution_count": 34,
   "metadata": {
    "hidden": true
   },
   "outputs": [
    {
     "data": {
      "image/png": "[encoded data removed]",
      "text/plain": [
       "<Figure size 432x288 with 1 Axes>"
      ]
     },
     "metadata": {},
     "output_type": "display_data"
    }
   ],
   "source": [
    "price_by_num_cust_review_scatter = price_by_num_cust_review.plot.scatter(x= 'num_cust_reviews', y= 'list_price')"
   ]
  },
  {
   "cell_type": "markdown",
   "metadata": {
    "hidden": true
   },
   "source": [
    "It seems like there isn't any correlation, or if there is, it's negative. Let's try zooming on on the main section of points"
   ]
  },
  {
   "cell_type": "code",
   "execution_count": 35,
   "metadata": {
    "hidden": true
   },
   "outputs": [
    {
     "data": {
      "text/plain": [
       "(0, 500)"
      ]
     },
     "execution_count": 35,
     "metadata": {},
     "output_type": "execute_result"
    },
    {
     "data": {
      "image/png": "[encoded data removed]",
      "text/plain": [
       "<Figure size 432x288 with 1 Axes>"
      ]
     },
     "metadata": {},
     "output_type": "display_data"
    }
   ],
   "source": [
    "price_by_num_cust_review_scatter = price_by_num_cust_review.plot.scatter(x= 'num_cust_reviews', y= 'list_price')\n",
    "plt.xlim(0,2000)\n",
    "plt.ylim(0,500)"
   ]
  },
  {
   "cell_type": "code",
   "execution_count": 36,
   "metadata": {
    "hidden": true
   },
   "outputs": [
    {
     "data": {
      "text/plain": [
       "(0, 200)"
      ]
     },
     "execution_count": 36,
     "metadata": {},
     "output_type": "execute_result"
    },
    {
     "data": {
      "image/png": "[encoded data removed]",
      "text/plain": [
       "<Figure size 432x288 with 1 Axes>"
      ]
     },
     "metadata": {},
     "output_type": "display_data"
    }
   ],
   "source": [
    "price_by_num_cust_review_scatter = price_by_num_cust_review.plot.scatter(x= 'num_cust_reviews', y= 'list_price')\n",
    "plt.xlim(0,1000)\n",
    "plt.ylim(0,200)"
   ]
  },
  {
   "cell_type": "code",
   "execution_count": 37,
   "metadata": {
    "hidden": true
   },
   "outputs": [
    {
     "data": {
      "text/plain": [
       "(0, 100)"
      ]
     },
     "execution_count": 37,
     "metadata": {},
     "output_type": "execute_result"
    },
    {
     "data": {
      "image/png": "[encoded data removed]",
      "text/plain": [
       "<Figure size 432x288 with 1 Axes>"
      ]
     },
     "metadata": {},
     "output_type": "display_data"
    }
   ],
   "source": [
    "price_by_num_cust_review_scatter = price_by_num_cust_review.plot.scatter(x= 'num_cust_reviews', y= 'list_price')\n",
    "plt.xlim(0,1000)\n",
    "plt.ylim(0,100)"
   ]
  },
  {
   "cell_type": "code",
   "execution_count": 38,
   "metadata": {
    "hidden": true
   },
   "outputs": [
    {
     "data": {
      "text/plain": [
       "(0, 60)"
      ]
     },
     "execution_count": 38,
     "metadata": {},
     "output_type": "execute_result"
    },
    {
     "data": {
      "image/png": "[encoded data removed]",
      "text/plain": [
       "<Figure size 432x288 with 1 Axes>"
      ]
     },
     "metadata": {},
     "output_type": "display_data"
    }
   ],
   "source": [
    "price_by_num_cust_review_scatter = price_by_num_cust_review.plot.scatter(x= 'num_cust_reviews', y= 'list_price')\n",
    "plt.xlim(0,1000)\n",
    "plt.ylim(0,60)"
   ]
  },
  {
   "cell_type": "markdown",
   "metadata": {
    "hidden": true
   },
   "source": [
    "Even after zooming in so much (and thus removing many outliers), it seems like there isn't a correlation between num of customer reviews and list price. That said, let's keep this feature for now."
   ]
  },
  {
   "cell_type": "markdown",
   "metadata": {
    "heading_collapsed": true
   },
   "source": [
    "### Check prime_binary"
   ]
  },
  {
   "cell_type": "code",
   "execution_count": 39,
   "metadata": {
    "hidden": true
   },
   "outputs": [],
   "source": [
    "price_by_prime = all_product_listings_for_modeling[['list_price', 'prime_binary']].copy()"
   ]
  },
  {
   "cell_type": "code",
   "execution_count": 40,
   "metadata": {
    "hidden": true
   },
   "outputs": [
    {
     "data": {
      "text/html": [
       "<div>\n",
       "<style scoped>\n",
       "    .dataframe tbody tr th:only-of-type {\n",
       "        vertical-align: middle;\n",
       "    }\n",
       "\n",
       "    .dataframe tbody tr th {\n",
       "        vertical-align: top;\n",
       "    }\n",
       "\n",
       "    .dataframe thead th {\n",
       "        text-align: right;\n",
       "    }\n",
       "</style>\n",
       "<table border=\"1\" class=\"dataframe\">\n",
       "  <thead>\n",
       "    <tr style=\"text-align: right;\">\n",
       "      <th></th>\n",
       "      <th>list_price</th>\n",
       "      <th>prime_binary</th>\n",
       "    </tr>\n",
       "  </thead>\n",
       "  <tbody>\n",
       "    <tr>\n",
       "      <th>0</th>\n",
       "      <td>74.99</td>\n",
       "      <td>1</td>\n",
       "    </tr>\n",
       "    <tr>\n",
       "      <th>1</th>\n",
       "      <td>13.99</td>\n",
       "      <td>1</td>\n",
       "    </tr>\n",
       "    <tr>\n",
       "      <th>2</th>\n",
       "      <td>9.99</td>\n",
       "      <td>1</td>\n",
       "    </tr>\n",
       "    <tr>\n",
       "      <th>3</th>\n",
       "      <td>11.29</td>\n",
       "      <td>1</td>\n",
       "    </tr>\n",
       "    <tr>\n",
       "      <th>4</th>\n",
       "      <td>8.39</td>\n",
       "      <td>1</td>\n",
       "    </tr>\n",
       "  </tbody>\n",
       "</table>\n",
       "</div>"
      ],
      "text/plain": [
       "   list_price  prime_binary\n",
       "0       74.99             1\n",
       "1       13.99             1\n",
       "2        9.99             1\n",
       "3       11.29             1\n",
       "4        8.39             1"
      ]
     },
     "execution_count": 40,
     "metadata": {},
     "output_type": "execute_result"
    }
   ],
   "source": [
    "price_by_prime.head()"
   ]
  },
  {
   "cell_type": "code",
   "execution_count": 41,
   "metadata": {
    "hidden": true
   },
   "outputs": [
    {
     "data": {
      "image/png": "[encoded data removed]",
      "text/plain": [
       "<Figure size 432x288 with 1 Axes>"
      ]
     },
     "metadata": {},
     "output_type": "display_data"
    }
   ],
   "source": [
    "price_by_prime_scatter = price_by_prime.plot.scatter(x= 'prime_binary', y= 'list_price')"
   ]
  },
  {
   "cell_type": "markdown",
   "metadata": {
    "hidden": true
   },
   "source": [
    "As we saw in the raw data, all of the products were prime products. Therefore, it may not be statistically significant nor correlated"
   ]
  },
  {
   "cell_type": "markdown",
   "metadata": {
    "heading_collapsed": true
   },
   "source": [
    "### Check outliers and correlation for avg_cust_review"
   ]
  },
  {
   "cell_type": "code",
   "execution_count": 42,
   "metadata": {
    "hidden": true
   },
   "outputs": [],
   "source": [
    "price_by_avg_cust_review = all_product_listings_for_modeling[['list_price', 'avg_cust_review']].copy()"
   ]
  },
  {
   "cell_type": "code",
   "execution_count": 43,
   "metadata": {
    "hidden": true
   },
   "outputs": [
    {
     "data": {
      "text/html": [
       "<div>\n",
       "<style scoped>\n",
       "    .dataframe tbody tr th:only-of-type {\n",
       "        vertical-align: middle;\n",
       "    }\n",
       "\n",
       "    .dataframe tbody tr th {\n",
       "        vertical-align: top;\n",
       "    }\n",
       "\n",
       "    .dataframe thead th {\n",
       "        text-align: right;\n",
       "    }\n",
       "</style>\n",
       "<table border=\"1\" class=\"dataframe\">\n",
       "  <thead>\n",
       "    <tr style=\"text-align: right;\">\n",
       "      <th></th>\n",
       "      <th>list_price</th>\n",
       "      <th>avg_cust_review</th>\n",
       "    </tr>\n",
       "  </thead>\n",
       "  <tbody>\n",
       "    <tr>\n",
       "      <th>0</th>\n",
       "      <td>74.99</td>\n",
       "      <td>4.5</td>\n",
       "    </tr>\n",
       "    <tr>\n",
       "      <th>1</th>\n",
       "      <td>13.99</td>\n",
       "      <td>4.2</td>\n",
       "    </tr>\n",
       "    <tr>\n",
       "      <th>2</th>\n",
       "      <td>9.99</td>\n",
       "      <td>4.5</td>\n",
       "    </tr>\n",
       "    <tr>\n",
       "      <th>3</th>\n",
       "      <td>11.29</td>\n",
       "      <td>4.2</td>\n",
       "    </tr>\n",
       "    <tr>\n",
       "      <th>4</th>\n",
       "      <td>8.39</td>\n",
       "      <td>4.3</td>\n",
       "    </tr>\n",
       "  </tbody>\n",
       "</table>\n",
       "</div>"
      ],
      "text/plain": [
       "   list_price  avg_cust_review\n",
       "0       74.99              4.5\n",
       "1       13.99              4.2\n",
       "2        9.99              4.5\n",
       "3       11.29              4.2\n",
       "4        8.39              4.3"
      ]
     },
     "execution_count": 43,
     "metadata": {},
     "output_type": "execute_result"
    }
   ],
   "source": [
    "price_by_avg_cust_review.head()"
   ]
  },
  {
   "cell_type": "code",
   "execution_count": 44,
   "metadata": {
    "hidden": true
   },
   "outputs": [
    {
     "data": {
      "image/png": "[encoded data removed]",
      "text/plain": [
       "<Figure size 432x288 with 1 Axes>"
      ]
     },
     "metadata": {},
     "output_type": "display_data"
    }
   ],
   "source": [
    "price_by_avg_cust_review_scatter = price_by_avg_cust_review.plot.scatter(x= 'avg_cust_review', y= 'list_price')"
   ]
  },
  {
   "cell_type": "markdown",
   "metadata": {
    "hidden": true
   },
   "source": [
    "As we saw in the raw data, there were quite a few products with no customer reviews. Therefore, there are many zero values for avg_cust_review in the plot above. \n",
    "\n",
    "Ignoring those, it seems like there might be a slight correlation between the average customer review and list price.1"
   ]
  },
  {
   "cell_type": "code",
   "execution_count": 45,
   "metadata": {
    "hidden": true
   },
   "outputs": [
    {
     "data": {
      "text/plain": [
       "(0, 500)"
      ]
     },
     "execution_count": 45,
     "metadata": {},
     "output_type": "execute_result"
    },
    {
     "data": {
      "image/png": "[encoded data removed]",
      "text/plain": [
       "<Figure size 432x288 with 1 Axes>"
      ]
     },
     "metadata": {},
     "output_type": "display_data"
    }
   ],
   "source": [
    "price_by_avg_cust_review_scatter_zoomed = price_by_avg_cust_review.plot.scatter(x= 'avg_cust_review', y= 'list_price')\n",
    "plt.xlim(2, 5)\n",
    "plt.ylim(0, 500)"
   ]
  },
  {
   "cell_type": "markdown",
   "metadata": {
    "hidden": true
   },
   "source": [
    "It seems like there are many outliers in terms of having zero reviews yet a wide range of prices. "
   ]
  },
  {
   "cell_type": "markdown",
   "metadata": {},
   "source": [
    "# Get the correlation of all features against list_price "
   ]
  },
  {
   "cell_type": "code",
   "execution_count": 46,
   "metadata": {},
   "outputs": [
    {
     "data": {
      "text/plain": [
       "<matplotlib.axes._subplots.AxesSubplot at 0x118e7ca90>"
      ]
     },
     "execution_count": 46,
     "metadata": {},
     "output_type": "execute_result"
    },
    {
     "data": {
      "image/png": "[encoded data removed]",
      "text/plain": [
       "<Figure size 432x288 with 1 Axes>"
      ]
     },
     "metadata": {},
     "output_type": "display_data"
    }
   ],
   "source": [
    "all_product_listings_for_modeling.corr()['list_price'].sort_values(ascending=False).plot(kind='bar')"
   ]
  },
  {
   "cell_type": "markdown",
   "metadata": {},
   "source": [
    "It's confirmed from the above chart that lowest_other_used_price and _ prime_binary have no correlation to list price, so I will remove those features.\n",
    "\n",
    "I will also remove expedited shipping and seller rank since they have such low correlations as well. Will also drop product discounts, since the list price of an item is already set before there are discounts applied. "
   ]
  },
  {
   "cell_type": "markdown",
   "metadata": {},
   "source": [
    "# Remove uncorrelated features"
   ]
  },
  {
   "cell_type": "code",
   "execution_count": 8,
   "metadata": {},
   "outputs": [],
   "source": [
    "all_product_listings_for_modeling_list_price = all_product_listings_for_modeling.drop(columns=['lowest_other_used_price',\n",
    "                                                                                              'prime_binary', 'log_price'])"
   ]
  },
  {
   "cell_type": "code",
   "execution_count": 9,
   "metadata": {},
   "outputs": [],
   "source": [
    "all_product_listings_for_modeling_log_price = all_product_listings_for_modeling.drop(columns=['lowest_other_used_price',\n",
    "                                                                                              'prime_binary', 'list_price'])"
   ]
  },
  {
   "cell_type": "markdown",
   "metadata": {},
   "source": [
    "# Add the square of features"
   ]
  },
  {
   "cell_type": "code",
   "execution_count": 12,
   "metadata": {},
   "outputs": [
    {
     "data": {
      "text/plain": [
       "Index(['num_cust_reviews', 'list_price', 'avg_cust_review',\n",
       "       'num_answered_questions', 'product_discounts', 'time_on_market',\n",
       "       'other_sellers_boolean', 'expedited_shipping_boolean',\n",
       "       'num_bullets_description', 'product_specs_image_boolean',\n",
       "       'num_specs_bullets', 'seller_rank_boolean', 'clothing_seller_rank',\n",
       "       'seller_rank_binary_list'],\n",
       "      dtype='object')"
      ]
     },
     "execution_count": 12,
     "metadata": {},
     "output_type": "execute_result"
    }
   ],
   "source": [
    "all_product_listings_for_modeling_list_price.columns"
   ]
  },
  {
   "cell_type": "code",
   "execution_count": 10,
   "metadata": {},
   "outputs": [],
   "source": [
    "def make_feature_degree_2(column):\n",
    "    feature_degree_2 = []\n",
    "    try: \n",
    "        for row in column:\n",
    "            feature_degree_2.append(row**2)\n",
    "    except:\n",
    "        feature_degree_2.append(0)\n",
    "    return feature_degree_2"
   ]
  },
  {
   "cell_type": "code",
   "execution_count": 14,
   "metadata": {},
   "outputs": [],
   "source": [
    "\n",
    "all_product_listings_for_modeling_list_price['num_cust_review_squared'] = make_feature_degree_2(all_product_listings_for_modeling_list_price['num_cust_reviews'])"
   ]
  },
  {
   "cell_type": "code",
   "execution_count": 15,
   "metadata": {},
   "outputs": [],
   "source": [
    "all_product_listings_for_modeling_list_price['avg_cust_review_squared'] = make_feature_degree_2(all_product_listings_for_modeling_list_price['avg_cust_review'])"
   ]
  },
  {
   "cell_type": "code",
   "execution_count": 16,
   "metadata": {},
   "outputs": [],
   "source": [
    "all_product_listings_for_modeling_list_price['num_answered_questions_squared'] = make_feature_degree_2(all_product_listings_for_modeling_list_price['num_answered_questions'])"
   ]
  },
  {
   "cell_type": "code",
   "execution_count": 17,
   "metadata": {},
   "outputs": [
    {
     "data": {
      "text/plain": [
       "Index(['num_cust_reviews', 'list_price', 'avg_cust_review',\n",
       "       'num_answered_questions', 'product_discounts', 'time_on_market',\n",
       "       'other_sellers_boolean', 'expedited_shipping_boolean',\n",
       "       'num_bullets_description', 'product_specs_image_boolean',\n",
       "       'num_specs_bullets', 'seller_rank_boolean', 'clothing_seller_rank',\n",
       "       'seller_rank_binary_list', 'num_cust_review_squared',\n",
       "       'avg_cust_review_squared', 'num_answered_questions_squared'],\n",
       "      dtype='object')"
      ]
     },
     "execution_count": 17,
     "metadata": {},
     "output_type": "execute_result"
    }
   ],
   "source": [
    "all_product_listings_for_modeling_list_price.columns"
   ]
  },
  {
   "cell_type": "code",
   "execution_count": 18,
   "metadata": {},
   "outputs": [],
   "source": [
    "all_product_listings_for_modeling_log_price['num_cust_review_squared'] = make_feature_degree_2(all_product_listings_for_modeling_log_price['num_cust_reviews'])"
   ]
  },
  {
   "cell_type": "code",
   "execution_count": 19,
   "metadata": {},
   "outputs": [],
   "source": [
    "all_product_listings_for_modeling_log_price['avg_cust_review_squared'] = make_feature_degree_2(all_product_listings_for_modeling_log_price['avg_cust_review'])"
   ]
  },
  {
   "cell_type": "code",
   "execution_count": 20,
   "metadata": {},
   "outputs": [],
   "source": [
    "all_product_listings_for_modeling_log_price['num_answered_questions_squared'] = make_feature_degree_2(all_product_listings_for_modeling_log_price['num_answered_questions'])"
   ]
  },
  {
   "cell_type": "code",
   "execution_count": 21,
   "metadata": {},
   "outputs": [
    {
     "data": {
      "text/plain": [
       "Index(['num_cust_reviews', 'avg_cust_review', 'num_answered_questions',\n",
       "       'product_discounts', 'time_on_market', 'other_sellers_boolean',\n",
       "       'expedited_shipping_boolean', 'num_bullets_description',\n",
       "       'product_specs_image_boolean', 'num_specs_bullets',\n",
       "       'seller_rank_boolean', 'clothing_seller_rank',\n",
       "       'seller_rank_binary_list', 'log_price', 'num_cust_review_squared',\n",
       "       'avg_cust_review_squared', 'num_answered_questions_squared'],\n",
       "      dtype='object')"
      ]
     },
     "execution_count": 21,
     "metadata": {},
     "output_type": "execute_result"
    }
   ],
   "source": [
    "all_product_listings_for_modeling_log_price.columns"
   ]
  },
  {
   "cell_type": "code",
   "execution_count": 22,
   "metadata": {},
   "outputs": [],
   "source": [
    "with open('all_product_listings_for_modeling_list_price.pkl', 'wb') as picklefile:\n",
    "        pickle.dump(all_product_listings_for_modeling_list_price, picklefile)"
   ]
  },
  {
   "cell_type": "code",
   "execution_count": 23,
   "metadata": {},
   "outputs": [],
   "source": [
    "with open('all_product_listings_for_modeling_log_price.pkl', 'wb') as picklefile:\n",
    "        pickle.dump(all_product_listings_for_modeling_log_price, picklefile)"
   ]
  },
  {
   "cell_type": "code",
   "execution_count": null,
   "metadata": {},
   "outputs": [],
   "source": []
  }
 ],
 "metadata": {
  "kernelspec": {
   "display_name": "Python 3",
   "language": "python",
   "name": "python3"
  },
  "language_info": {
   "codemirror_mode": {
    "name": "ipython",
    "version": 3
   },
   "file_extension": ".py",
   "mimetype": "text/x-python",
   "name": "python",
   "nbconvert_exporter": "python",
   "pygments_lexer": "ipython3",
   "version": "3.6.3"
  },
  "toc": {
   "base_numbering": 1,
   "nav_menu": {},
   "number_sections": true,
   "sideBar": true,
   "skip_h1_title": false,
   "title_cell": "Table of Contents",
   "title_sidebar": "Contents",
   "toc_cell": false,
   "toc_position": {},
   "toc_section_display": true,
   "toc_window_display": false
  }
 },
 "nbformat": 4,
 "nbformat_minor": 2
}
